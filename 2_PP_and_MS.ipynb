{
 "cells": [
  {
   "cell_type": "markdown",
   "metadata": {},
   "source": [
    "# **Dataiku Data Scientist Technical Assessment**\n",
    "### Author : Jules Boistard\n",
    "### Submission date : January 18th, 2022\n",
    "___"
   ]
  },
  {
   "cell_type": "markdown",
   "metadata": {},
   "source": [
    "#### **#2 : Pre-processing and preliminary model selection**\n",
    "\n",
    "The goal here is to iteratively find the best pre-processing pipeline based on a simple basic machine learning model, adding/removing steps along the way.\n",
    "\n",
    "This section **does not** aim at finding the best performing model. This will be the focus of the next section (\"model selection\")."
   ]
  },
  {
   "cell_type": "markdown",
   "metadata": {},
   "source": [
    "##### **#2.1 : Importing and splitting data**"
   ]
  },
  {
   "cell_type": "code",
   "execution_count": 10,
   "metadata": {},
   "outputs": [],
   "source": [
    "# Read the train and test files without duplicates and conflicts\n",
    "# NB : we do not want instance weight for machine learning training\n",
    "import pandas as pd\n",
    "\n",
    "train = pd.read_csv(\"data/train_clean.csv\", header=0)\n",
    "test = pd.read_csv(\"data/test_clean.csv\", header=0)\n",
    "data = pd.concat([train, test])\n",
    "\n",
    "# Split datasets into features set and target variable\n",
    "# Note : target classes \"-50k\" and \">50k\" will respectively be labelled 0 and 1\n",
    "X_train_raw = train.iloc[:, :-2]\n",
    "X_test_raw = test.iloc[:, :-2]\n",
    "y_train = train.iloc[:, -2].map(lambda s: 0 if \"-\" in s else 1)\n",
    "y_test = test.iloc[:, -2].map(lambda s: 0 if \"-\" in s else 1)"
   ]
  },
  {
   "cell_type": "markdown",
   "metadata": {},
   "source": [
    "##### **#2.2 : Pre processing**"
   ]
  },
  {
   "cell_type": "markdown",
   "metadata": {},
   "source": [
    "Our first pre-processing pipeline will consist in 4 basic steps :\n",
    "1. Drop columns with ~50% NaN Values (see part 1 : EDA)\n",
    "2. Impute NaN values with most frequent class for other columns wit missing values (see part 1 : EDA)\n",
    "3. Encode our remaining categorical features with one hot encoding\n",
    "4. Perform standard scaling for our numerical features"
   ]
  },
  {
   "cell_type": "code",
   "execution_count": 11,
   "metadata": {},
   "outputs": [],
   "source": [
    "# Let us first define different sets of features\n",
    "cols_to_drop = [\"migration code-change in msa\", \"migration code-change in reg\", \"migration code-move within reg\", \"migration prev res in sunbelt\"]\n",
    "num_cols = [\"age\", \"wage per hour\", \"capital gains\", \"capital losses\", \"dividends from stocks\", \"weeks worked in year\"] # \"num persons worked for employer\" is removed because of mapping\n",
    "cat_cols = list(set(X_train_raw.columns).difference(set(num_cols)).difference(set(cols_to_drop)))"
   ]
  },
  {
   "cell_type": "code",
   "execution_count": 12,
   "metadata": {},
   "outputs": [],
   "source": [
    "# Drop useless columns\n",
    "X_train = X_train_raw.drop(cols_to_drop, axis=1)\n",
    "X_test = X_test_raw.drop(cols_to_drop, axis=1)"
   ]
  },
  {
   "cell_type": "code",
   "execution_count": 13,
   "metadata": {},
   "outputs": [],
   "source": [
    "# Imputer for missing value with most frequent category (numerical features don't have missing values)\n",
    "from sklearn.impute import SimpleImputer\n",
    "\n",
    "imputer = SimpleImputer(strategy=\"most_frequent\").fit(pd.concat([X_train, X_test]))\n",
    "\n",
    "X_train = pd.DataFrame(imputer.transform(X_train), columns=X_train.columns)\n",
    "X_test = pd.DataFrame(imputer.transform(X_test), columns=X_test.columns)"
   ]
  },
  {
   "cell_type": "code",
   "execution_count": 14,
   "metadata": {},
   "outputs": [],
   "source": [
    "# One hot encoding for categorical variables\n",
    "# Note : we will drop the 0 / Not in universe category for each variable if it exists, othewise the first one by default, to avoid multicollinearity\n",
    "from sklearn.preprocessing import OneHotEncoder\n",
    "\n",
    "drop_cat = []\n",
    "for col in cat_cols:\n",
    "    cat_values = list(X_train[col].unique())    \n",
    "    if 0 in cat_values:\n",
    "        drop_cat.append(0)\n",
    "    elif \"Not in universe\" in cat_values:\n",
    "        drop_cat.append(\"Not in universe\")\n",
    "    else:\n",
    "        drop_cat.append(cat_values[0])\n",
    "\n",
    "encoder = OneHotEncoder(drop=drop_cat, sparse=False, dtype=\"int32\", handle_unknown=\"ignore\").fit(pd.concat([X_train[cat_cols], X_test[cat_cols]]))\n",
    "new_cat_cols = encoder.get_feature_names_out()\n",
    "\n",
    "X_train_onehot = pd.DataFrame(encoder.transform(X_train[cat_cols]), columns=new_cat_cols)\n",
    "X_test_onehot = pd.DataFrame(encoder.transform(X_test[cat_cols]), columns=new_cat_cols)\n",
    "\n",
    "X_train = pd.concat([X_train_onehot, X_train[num_cols]], axis=1)\n",
    "X_test = pd.concat([X_test_onehot, X_test[num_cols]], axis=1)"
   ]
  },
  {
   "cell_type": "code",
   "execution_count": 15,
   "metadata": {},
   "outputs": [],
   "source": [
    "# Scale numerical columns\n",
    "from sklearn.preprocessing import StandardScaler\n",
    "\n",
    "scaler = StandardScaler().fit(pd.concat([X_train[num_cols], X_test[num_cols]]))\n",
    "col_names = scaler.get_feature_names_out()\n",
    "\n",
    "X_train_scaled = pd.DataFrame(scaler.transform(X_train[num_cols]), columns=col_names)\n",
    "X_test_scaled = pd.DataFrame(scaler.transform(X_test[num_cols]), columns=col_names)\n",
    "\n",
    "X_train = pd.concat([X_train_scaled, X_train[new_cat_cols]], axis=1)\n",
    "X_test = pd.concat([X_test_scaled, X_test[new_cat_cols]], axis=1)"
   ]
  },
  {
   "cell_type": "markdown",
   "metadata": {},
   "source": [
    "##### **#2.3 : Baseline models**"
   ]
  },
  {
   "cell_type": "markdown",
   "metadata": {},
   "source": [
    "To begin with, we will compare two very basic models, on which we will perform minimal pre-processing :\n",
    "- One linear : a logistic regression model\n",
    "- One non linear : a decision tree"
   ]
  },
  {
   "cell_type": "code",
   "execution_count": 16,
   "metadata": {},
   "outputs": [],
   "source": [
    "# Define evaluation procedure\n",
    "from sklearn.metrics import classification_report\n",
    "from sklearn.model_selection import learning_curve\n",
    "import matplotlib.pyplot as plt\n",
    "\n",
    "def evaluate_model(model, X_train, y_train, X_test, y_test, curves=True):\n",
    "    model.fit(X_train, y_train)\n",
    "    y_pred = model.predict(X_test)\n",
    "\n",
    "    print(classification_report(y_test, y_pred, target_names=[\"Low income (<50k)\", \"High income (>50k)\"], digits=4))\n",
    "\n",
    "    if curves:\n",
    "        N, train_score, val_score = learning_curve(model, X_train, y_train, scoring=\"f1_macro\")\n",
    "        plt.figure()\n",
    "        plt.plot(N, train_score.mean(axis=1), label=\"train score\")\n",
    "        plt.plot(N, val_score.mean(axis=1), label=\"val score\")\n",
    "        plt.legend()\n"
   ]
  },
  {
   "cell_type": "markdown",
   "metadata": {},
   "source": [
    "**Important** : we do not value one of the 2 target classes more than the other. In other words, good predictions are equally important for the \"low income\" and \"high income\" classes. On the other hand, accuracy will not do because of class imbalance (~94%/6%). We can therefore choose the **macro averaged f1-score** as our performance metric."
   ]
  },
  {
   "cell_type": "code",
   "execution_count": 17,
   "metadata": {},
   "outputs": [
    {
     "name": "stdout",
     "output_type": "stream",
     "text": [
      "                    precision    recall  f1-score   support\n",
      "\n",
      " Low income (<50k)     0.9870    0.8435    0.9096     72669\n",
      "High income (>50k)     0.3199    0.8689    0.4677      6157\n",
      "\n",
      "          accuracy                         0.8455     78826\n",
      "         macro avg     0.6535    0.8562    0.6886     78826\n",
      "      weighted avg     0.9349    0.8455    0.8751     78826\n",
      "\n"
     ]
    },
    {
     "data": {
      "image/png": "[encoded data removed]",
      "text/plain": [
       "<Figure size 432x288 with 1 Axes>"
      ]
     },
     "metadata": {
      "needs_background": "light"
     },
     "output_type": "display_data"
    }
   ],
   "source": [
    "# Building and evaluating a baseline logistic regression model\n",
    "from sklearn.linear_model import LogisticRegression\n",
    "\n",
    "lr_clf = LogisticRegression(max_iter=5000, class_weight=\"balanced\", random_state=42)\n",
    "evaluate_model(lr_clf, X_train, y_train, X_test, y_test, curves=True)"
   ]
  },
  {
   "cell_type": "code",
   "execution_count": 18,
   "metadata": {},
   "outputs": [
    {
     "name": "stdout",
     "output_type": "stream",
     "text": [
      "                    precision    recall  f1-score   support\n",
      "\n",
      " Low income (<50k)     0.9576    0.9524    0.9549     72669\n",
      "High income (>50k)     0.4715    0.5017    0.4862      6157\n",
      "\n",
      "          accuracy                         0.9172     78826\n",
      "         macro avg     0.7145    0.7270    0.7205     78826\n",
      "      weighted avg     0.9196    0.9172    0.9183     78826\n",
      "\n"
     ]
    },
    {
     "data": {
      "image/png": "[encoded data removed]",
      "text/plain": [
       "<Figure size 432x288 with 1 Axes>"
      ]
     },
     "metadata": {
      "needs_background": "light"
     },
     "output_type": "display_data"
    }
   ],
   "source": [
    "# Building and evaluating a baseline decision tree\n",
    "from sklearn.tree import DecisionTreeClassifier\n",
    "\n",
    "dt_clf = DecisionTreeClassifier(criterion=\"entropy\", class_weight=\"balanced\", random_state=42)\n",
    "evaluate_model(dt_clf, X_train, y_train, X_test, y_test, curves=True)"
   ]
  },
  {
   "cell_type": "markdown",
   "metadata": {},
   "source": [
    "A couple things worth noting :\n",
    "- The **decision tree performs better** than the logistic regression model. We will however continue to compare the both of them throughout the next steps.\n",
    "- Depending on the context, we could favor one based on individual f1, recall or sensitivity scores for one of the two classes.\n",
    "- Overall, there is room for improvement. While the f1 score is not too bad on the majority class (low income) it is, as could be expected, quite poor for the minority class (high income).\n",
    "\n",
    "To adress the issue of underfitting, we will try the following pre-processing operations :\n",
    "- Perform over-sampling to increase the representation of the minority class\n",
    "- Perform some feature engineering"
   ]
  },
  {
   "cell_type": "markdown",
   "metadata": {},
   "source": [
    "Before going any further, let us take a look at feature conctribution in both models"
   ]
  },
  {
   "cell_type": "code",
   "execution_count": 19,
   "metadata": {},
   "outputs": [],
   "source": [
    "feature_contrib = pd.concat([\n",
    "    pd.DataFrame(data=lr_clf.coef_.flatten(), index=X_train.columns, columns=[\"log reg coef\"]),\n",
    "    pd.DataFrame(data=dt_clf.feature_importances_, index=X_train.columns, columns=[\"tree contrib\"])\n",
    "], axis=1)\n",
    "feature_contrib[\"log reg coef abs\"] = abs(feature_contrib[\"log reg coef\"])"
   ]
  },
  {
   "cell_type": "code",
   "execution_count": 20,
   "metadata": {},
   "outputs": [
    {
     "name": "stdout",
     "output_type": "stream",
     "text": [
      "===== Top contributing features for log reg =====\n"
     ]
    },
    {
     "data": {
      "text/html": [
       "<div>\n",
       "<style scoped>\n",
       "    .dataframe tbody tr th:only-of-type {\n",
       "        vertical-align: middle;\n",
       "    }\n",
       "\n",
       "    .dataframe tbody tr th {\n",
       "        vertical-align: top;\n",
       "    }\n",
       "\n",
       "    .dataframe thead th {\n",
       "        text-align: right;\n",
       "    }\n",
       "</style>\n",
       "<table border=\"1\" class=\"dataframe\">\n",
       "  <thead>\n",
       "    <tr style=\"text-align: right;\">\n",
       "      <th></th>\n",
       "      <th>log reg coef</th>\n",
       "      <th>tree contrib</th>\n",
       "      <th>log reg coef abs</th>\n",
       "    </tr>\n",
       "  </thead>\n",
       "  <tbody>\n",
       "    <tr>\n",
       "      <th>education_Doctorate degree(PhD EdD)</th>\n",
       "      <td>2.307</td>\n",
       "      <td>0.004</td>\n",
       "      <td>2.307</td>\n",
       "    </tr>\n",
       "    <tr>\n",
       "      <th>country of birth self_Nicaragua</th>\n",
       "      <td>-2.038</td>\n",
       "      <td>0.000</td>\n",
       "      <td>2.038</td>\n",
       "    </tr>\n",
       "    <tr>\n",
       "      <th>country of birth father_Guatemala</th>\n",
       "      <td>-2.009</td>\n",
       "      <td>0.000</td>\n",
       "      <td>2.009</td>\n",
       "    </tr>\n",
       "    <tr>\n",
       "      <th>education_Prof school degree (MD DDS DVM LLB JD)</th>\n",
       "      <td>1.895</td>\n",
       "      <td>0.003</td>\n",
       "      <td>1.895</td>\n",
       "    </tr>\n",
       "    <tr>\n",
       "      <th>tax filer stat_Joint both under 65</th>\n",
       "      <td>1.891</td>\n",
       "      <td>0.003</td>\n",
       "      <td>1.891</td>\n",
       "    </tr>\n",
       "    <tr>\n",
       "      <th>country of birth self_Scotland</th>\n",
       "      <td>1.767</td>\n",
       "      <td>0.000</td>\n",
       "      <td>1.767</td>\n",
       "    </tr>\n",
       "    <tr>\n",
       "      <th>country of birth self_Guatemala</th>\n",
       "      <td>1.764</td>\n",
       "      <td>0.000</td>\n",
       "      <td>1.764</td>\n",
       "    </tr>\n",
       "    <tr>\n",
       "      <th>education_Masters degree(MA MS MEng MEd MSW MBA)</th>\n",
       "      <td>1.673</td>\n",
       "      <td>0.009</td>\n",
       "      <td>1.673</td>\n",
       "    </tr>\n",
       "    <tr>\n",
       "      <th>tax filer stat_Head of household</th>\n",
       "      <td>1.499</td>\n",
       "      <td>0.002</td>\n",
       "      <td>1.499</td>\n",
       "    </tr>\n",
       "    <tr>\n",
       "      <th>education_Less than 1st grade</th>\n",
       "      <td>-1.479</td>\n",
       "      <td>0.000</td>\n",
       "      <td>1.479</td>\n",
       "    </tr>\n",
       "  </tbody>\n",
       "</table>\n",
       "</div>"
      ],
      "text/plain": [
       "                                                  log reg coef  tree contrib  \\\n",
       "education_Doctorate degree(PhD EdD)                      2.307         0.004   \n",
       "country of birth self_Nicaragua                         -2.038         0.000   \n",
       "country of birth father_Guatemala                       -2.009         0.000   \n",
       "education_Prof school degree (MD DDS DVM LLB JD)         1.895         0.003   \n",
       "tax filer stat_Joint both under 65                       1.891         0.003   \n",
       "country of birth self_Scotland                           1.767         0.000   \n",
       "country of birth self_Guatemala                          1.764         0.000   \n",
       "education_Masters degree(MA MS MEng MEd MSW MBA)         1.673         0.009   \n",
       "tax filer stat_Head of household                         1.499         0.002   \n",
       "education_Less than 1st grade                           -1.479         0.000   \n",
       "\n",
       "                                                  log reg coef abs  \n",
       "education_Doctorate degree(PhD EdD)                          2.307  \n",
       "country of birth self_Nicaragua                              2.038  \n",
       "country of birth father_Guatemala                            2.009  \n",
       "education_Prof school degree (MD DDS DVM LLB JD)             1.895  \n",
       "tax filer stat_Joint both under 65                           1.891  \n",
       "country of birth self_Scotland                               1.767  \n",
       "country of birth self_Guatemala                              1.764  \n",
       "education_Masters degree(MA MS MEng MEd MSW MBA)             1.673  \n",
       "tax filer stat_Head of household                             1.499  \n",
       "education_Less than 1st grade                                1.479  "
      ]
     },
     "execution_count": 20,
     "metadata": {},
     "output_type": "execute_result"
    }
   ],
   "source": [
    "pd.set_option('display.float_format', lambda x: '%.3f' % x)\n",
    "print(\"===== Top contributing features for log reg =====\")\n",
    "feature_contrib.sort_values(\"log reg coef abs\", ascending=False).head(10)"
   ]
  },
  {
   "cell_type": "code",
   "execution_count": 21,
   "metadata": {},
   "outputs": [
    {
     "name": "stdout",
     "output_type": "stream",
     "text": [
      "===== Top contributing features for decision tree =====\n"
     ]
    },
    {
     "data": {
      "text/html": [
       "<div>\n",
       "<style scoped>\n",
       "    .dataframe tbody tr th:only-of-type {\n",
       "        vertical-align: middle;\n",
       "    }\n",
       "\n",
       "    .dataframe tbody tr th {\n",
       "        vertical-align: top;\n",
       "    }\n",
       "\n",
       "    .dataframe thead th {\n",
       "        text-align: right;\n",
       "    }\n",
       "</style>\n",
       "<table border=\"1\" class=\"dataframe\">\n",
       "  <thead>\n",
       "    <tr style=\"text-align: right;\">\n",
       "      <th></th>\n",
       "      <th>log reg coef</th>\n",
       "      <th>tree contrib</th>\n",
       "      <th>log reg coef abs</th>\n",
       "    </tr>\n",
       "  </thead>\n",
       "  <tbody>\n",
       "    <tr>\n",
       "      <th>weeks worked in year</th>\n",
       "      <td>0.913</td>\n",
       "      <td>0.187</td>\n",
       "      <td>0.913</td>\n",
       "    </tr>\n",
       "    <tr>\n",
       "      <th>age</th>\n",
       "      <td>0.632</td>\n",
       "      <td>0.136</td>\n",
       "      <td>0.632</td>\n",
       "    </tr>\n",
       "    <tr>\n",
       "      <th>dividends from stocks</th>\n",
       "      <td>0.497</td>\n",
       "      <td>0.110</td>\n",
       "      <td>0.497</td>\n",
       "    </tr>\n",
       "    <tr>\n",
       "      <th>sex_Female</th>\n",
       "      <td>-1.106</td>\n",
       "      <td>0.047</td>\n",
       "      <td>1.106</td>\n",
       "    </tr>\n",
       "    <tr>\n",
       "      <th>capital gains</th>\n",
       "      <td>0.837</td>\n",
       "      <td>0.045</td>\n",
       "      <td>0.837</td>\n",
       "    </tr>\n",
       "    <tr>\n",
       "      <th>major occupation code_Professional specialty</th>\n",
       "      <td>0.810</td>\n",
       "      <td>0.023</td>\n",
       "      <td>0.810</td>\n",
       "    </tr>\n",
       "    <tr>\n",
       "      <th>major occupation code_Executive admin and managerial</th>\n",
       "      <td>0.480</td>\n",
       "      <td>0.019</td>\n",
       "      <td>0.480</td>\n",
       "    </tr>\n",
       "    <tr>\n",
       "      <th>capital losses</th>\n",
       "      <td>0.198</td>\n",
       "      <td>0.016</td>\n",
       "      <td>0.198</td>\n",
       "    </tr>\n",
       "    <tr>\n",
       "      <th>education_Bachelors degree(BA AB BS)</th>\n",
       "      <td>1.062</td>\n",
       "      <td>0.012</td>\n",
       "      <td>1.062</td>\n",
       "    </tr>\n",
       "    <tr>\n",
       "      <th>num persons worked for employer_6</th>\n",
       "      <td>0.521</td>\n",
       "      <td>0.011</td>\n",
       "      <td>0.521</td>\n",
       "    </tr>\n",
       "  </tbody>\n",
       "</table>\n",
       "</div>"
      ],
      "text/plain": [
       "                                                    log reg coef  \\\n",
       "weeks worked in year                                       0.913   \n",
       "age                                                        0.632   \n",
       "dividends from stocks                                      0.497   \n",
       "sex_Female                                                -1.106   \n",
       "capital gains                                              0.837   \n",
       "major occupation code_Professional specialty               0.810   \n",
       "major occupation code_Executive admin and manag...         0.480   \n",
       "capital losses                                             0.198   \n",
       "education_Bachelors degree(BA AB BS)                       1.062   \n",
       "num persons worked for employer_6                          0.521   \n",
       "\n",
       "                                                    tree contrib  \\\n",
       "weeks worked in year                                       0.187   \n",
       "age                                                        0.136   \n",
       "dividends from stocks                                      0.110   \n",
       "sex_Female                                                 0.047   \n",
       "capital gains                                              0.045   \n",
       "major occupation code_Professional specialty               0.023   \n",
       "major occupation code_Executive admin and manag...         0.019   \n",
       "capital losses                                             0.016   \n",
       "education_Bachelors degree(BA AB BS)                       0.012   \n",
       "num persons worked for employer_6                          0.011   \n",
       "\n",
       "                                                    log reg coef abs  \n",
       "weeks worked in year                                           0.913  \n",
       "age                                                            0.632  \n",
       "dividends from stocks                                          0.497  \n",
       "sex_Female                                                     1.106  \n",
       "capital gains                                                  0.837  \n",
       "major occupation code_Professional specialty                   0.810  \n",
       "major occupation code_Executive admin and manag...             0.480  \n",
       "capital losses                                                 0.198  \n",
       "education_Bachelors degree(BA AB BS)                           1.062  \n",
       "num persons worked for employer_6                              0.521  "
      ]
     },
     "execution_count": 21,
     "metadata": {},
     "output_type": "execute_result"
    }
   ],
   "source": [
    "print(\"===== Top contributing features for decision tree =====\")\n",
    "feature_contrib.sort_values(\"tree contrib\", ascending=False).head(10)"
   ]
  },
  {
   "cell_type": "markdown",
   "metadata": {},
   "source": [
    "We can spot some interesting things that corroborate some of the insights from EDA (see part 1) :\n",
    "- 3 of the highest academic degrees were decisive for the \"high income\" class in the log reg model (positive coef)\n",
    "- In decision trees, the feature that gives the maximum information gain is the number of weeks worked during the year.\n",
    "- The \"women feature\" skews the log reg model towards the \"low income\" class (negative coef)"
   ]
  },
  {
   "cell_type": "markdown",
   "metadata": {},
   "source": [
    "##### **#2.3 : Over sampling**"
   ]
  },
  {
   "cell_type": "markdown",
   "metadata": {},
   "source": [
    "Let us try and perform over sampling through a SMOTE algorithm (Synthetic Minority Oversampling TEchnique). The goal is to artificially create observations for the minority class \"in between\" real observations from the same class in the feature space, up until the two classes have an equal number of observations"
   ]
  },
  {
   "cell_type": "code",
   "execution_count": 22,
   "metadata": {},
   "outputs": [],
   "source": [
    "# Try and perform over sampling to balance classes out\n",
    "from imblearn.over_sampling import SMOTE\n",
    "\n",
    "X_train_resampled, y_train_resampled = SMOTE(sampling_strategy=\"auto\", random_state=42).fit_resample(X_train, y_train)"
   ]
  },
  {
   "cell_type": "code",
   "execution_count": 87,
   "metadata": {},
   "outputs": [
    {
     "name": "stdout",
     "output_type": "stream",
     "text": [
      "                    precision    recall  f1-score   support\n",
      "\n",
      " Low income (<50k)     0.9643    0.9447    0.9544     72669\n",
      "High income (>50k)     0.4736    0.5873    0.5244      6157\n",
      "\n",
      "          accuracy                         0.9168     78826\n",
      "         macro avg     0.7190    0.7660    0.7394     78826\n",
      "      weighted avg     0.9260    0.9168    0.9208     78826\n",
      "\n"
     ]
    }
   ],
   "source": [
    "# Evaluate with log reg model\n",
    "evaluate_model(lr_clf, X_train_resampled, y_train_resampled, X_test, y_test, curves=False)"
   ]
  },
  {
   "cell_type": "code",
   "execution_count": 128,
   "metadata": {},
   "outputs": [
    {
     "name": "stdout",
     "output_type": "stream",
     "text": [
      "                    precision    recall  f1-score   support\n",
      "\n",
      " Low income (<50k)     0.9592    0.9384    0.9487     72669\n",
      "High income (>50k)     0.4209    0.5283    0.4685      6157\n",
      "\n",
      "          accuracy                         0.9064     78826\n",
      "         macro avg     0.6900    0.7334    0.7086     78826\n",
      "      weighted avg     0.9171    0.9064    0.9112     78826\n",
      "\n"
     ]
    }
   ],
   "source": [
    "# Same with decision tree\n",
    "evaluate_model(dt_clf, X_train_resampled, y_train_resampled, X_test, y_test, curves=False)"
   ]
  },
  {
   "cell_type": "markdown",
   "metadata": {},
   "source": [
    "We can observe two different results :\n",
    "- Oversampling greatly improved the average f1 score of our logistic regression model (we gained 5%)\n",
    "- The same operation dit **not** improve the performance of our decision tree (we lost a little less than 1%)"
   ]
  },
  {
   "cell_type": "markdown",
   "metadata": {},
   "source": [
    "##### **#2.4 : Feature engineering**"
   ]
  },
  {
   "cell_type": "markdown",
   "metadata": {},
   "source": [
    "We have tried adding observations. Let us now try to add features.\n",
    "\n",
    "Since we want to preserve some degree of \"explainability\" in our model, we will not make us of feature engineering algorithm such as polynomial features.\n",
    "\n",
    "However, one interesting step would be to compute our own features. This usually requires domain expertise and, often, gathering extra data. To work with what we have, we can try for example :\n",
    "- To compute an estimate of total earnings based on wage per hour, weeks worked in year and additional incomes such as capital gains and dividends from stocks\n",
    "- To replace \"num persons worked for employer\" category numbers by the segment mean, according to documentation\n",
    "- To compute an estimate of tax rate based on our earnings estimate and tax filling status"
   ]
  },
  {
   "cell_type": "code",
   "execution_count": 104,
   "metadata": {},
   "outputs": [],
   "source": [
    "# Average working week is 34.6 hours in the US according to Buereau of Labor Statistics\n",
    "def estimate_earnings(hourly_wage, worked_weeks, capital_gains, capital_losses, dividends, average_hours_in_working_week_us=34.6):\n",
    "    return (\n",
    "        (hourly_wage * worked_weeks * average_hours_in_working_week_us) + capital_gains + dividends - capital_losses\n",
    "    )"
   ]
  },
  {
   "cell_type": "code",
   "execution_count": 91,
   "metadata": {},
   "outputs": [],
   "source": [
    "# Mean segment company sizes, from doc\n",
    "segment_mean_company_size = {\n",
    "    0: 0,\n",
    "    1: (0 + 10)/2,\n",
    "    2: (10 + 24)/2,\n",
    "    3: (25 + 99)/2,\n",
    "    4: (100 + 499)/2,\n",
    "    5: (500 + 999)/2,\n",
    "    6: 2000, # Arbitrary\n",
    "}"
   ]
  },
  {
   "cell_type": "code",
   "execution_count": 114,
   "metadata": {},
   "outputs": [],
   "source": [
    "'''  Tax rates from year 1995 found here : https://taxfoundation.org/historical-income-tax-rates-brackets/\n",
    "\n",
    "Married Filing Jointly \tMarried Filing Separately \tSingle Filer \tHead of Household\n",
    "\n",
    "15.0% \t> \t$0 \t        15.0% \t> \t$0 \t        15.0% \t> \t$0 \t        15.0% \t> \t$0\n",
    "28.0% \t> \t$39,000 \t28.0% \t> \t$19,500 \t28.0% \t> \t$23,350 \t28.0% \t> \t$31,250 \t \n",
    "31.0% \t> \t$94,250 \t31.0% \t> \t$47,125 \t31.0% \t> \t$56,550 \t31.0% \t> \t$80,750 \t \n",
    "36.0% \t> \t$143,600 \t36.0% \t> \t$71,800 \t36.0% \t> \t$117,950 \t36.0% \t> \t$130,800 \t \n",
    "39.6% \t> \t$256,500 \t39.6% \t> \t$128,250 \t39.6% \t> \t$256,500 \t39.6% \t> \t$256,500 \n",
    "'''\n",
    "import numpy as np\n",
    "\n",
    "def estimate_tax_amount(tax_fill_stat, marital_stat, earnings):\n",
    "\n",
    "    tax_rates = [0.15, 0.28, 0.31, 0.36, 0.396]\n",
    "    \n",
    "    if tax_fill_stat == \"Nonfiler\":\n",
    "        return 0\n",
    "    \n",
    "    elif tax_fill_stat == \"Single\":\n",
    "        if \"Married\" in marital_stat: # Married filling separately\n",
    "            earning_brackets = [0, 19500, 47125, 71800, 128250, np.inf]\n",
    "\n",
    "        else : # Single filling\n",
    "            earning_brackets = [0, 23350, 56550, 117950, 256500, np.inf]\n",
    "\n",
    "    elif tax_fill_stat == \"Head of household\":\n",
    "        earning_brackets = [0, 31250, 80750, 130800, 256500, np.inf]\n",
    "\n",
    "    else: # Joint filling\n",
    "        earning_brackets = [0, 39000, 94250, 143600, 256500, np.inf]\n",
    "\n",
    "    amounts_in_brackets= np.clip(earnings, earning_brackets[:-1], earning_brackets[1:]) - earning_brackets[:-1]\n",
    "    tax_amount_estimate = (np.array(tax_rates) * amounts_in_brackets).sum()\n",
    "\n",
    "    return tax_amount_estimate"
   ]
  },
  {
   "cell_type": "code",
   "execution_count": 115,
   "metadata": {},
   "outputs": [],
   "source": [
    "def new_features(X):\n",
    "\n",
    "    X_ = X.copy()\n",
    "    \n",
    "    X_[\"earnings estimate\"] = X_.apply(lambda row: estimate_earnings(\n",
    "        hourly_wage=row[\"wage per hour\"]/100, # Note : according to doc, wage per hour has a 2 decimal implied\n",
    "        worked_weeks=row[\"weeks worked in year\"],\n",
    "        capital_gains=row[\"capital gains\"],\n",
    "        capital_losses=row[\"capital losses\"],\n",
    "        dividends=row[\"dividends from stocks\"]\n",
    "    ), axis=1)\n",
    "\n",
    "    X_[\"nb of employees in company estimate\"] = X_[\"num persons worked for employer\"].map(segment_mean_company_size)\n",
    "\n",
    "    X_[\"tax amount estimate\"] = X_.apply(lambda row: estimate_tax_amount(\n",
    "        tax_fill_stat=row[\"tax filer stat\"],\n",
    "        marital_stat=row[\"marital stat\"],\n",
    "        earnings=row[\"earnings estimate\"]\n",
    "    ), axis=1) \n",
    "\n",
    "    return X_[[\"earnings estimate\", \"nb of employees in company estimate\", \"tax amount estimate\"]]"
   ]
  },
  {
   "cell_type": "code",
   "execution_count": 123,
   "metadata": {},
   "outputs": [],
   "source": [
    "# Add features in datasets and scale them\n",
    "X_train_new_features = new_features(X_train_raw)\n",
    "X_test_new_features = new_features(X_test_raw)"
   ]
  },
  {
   "cell_type": "code",
   "execution_count": 124,
   "metadata": {},
   "outputs": [],
   "source": [
    "scaler = StandardScaler().fit(pd.concat([X_train_new_features, X_test_new_features]))\n",
    "col_names = scaler.get_feature_names_out()\n",
    "\n",
    "X_train_new_features = pd.concat([X_train, pd.DataFrame(scaler.transform(X_train_new_features), columns=col_names)], axis=1)\n",
    "X_test_new_features = pd.concat([X_test, pd.DataFrame(scaler.transform(X_test_new_features), columns=col_names)], axis=1)"
   ]
  },
  {
   "cell_type": "code",
   "execution_count": 127,
   "metadata": {},
   "outputs": [
    {
     "name": "stdout",
     "output_type": "stream",
     "text": [
      "                    precision    recall  f1-score   support\n",
      "\n",
      " Low income (<50k)     0.9870    0.8434    0.9096     72669\n",
      "High income (>50k)     0.3199    0.8691    0.4676      6157\n",
      "\n",
      "          accuracy                         0.8454     78826\n",
      "         macro avg     0.6534    0.8563    0.6886     78826\n",
      "      weighted avg     0.9349    0.8454    0.8751     78826\n",
      "\n"
     ]
    }
   ],
   "source": [
    "# Try our new features with the log reg model\n",
    "evaluate_model(lr_clf, X_train_new_features, y_train, X_test_new_features, y_test, curves=False)"
   ]
  },
  {
   "cell_type": "code",
   "execution_count": 132,
   "metadata": {},
   "outputs": [
    {
     "name": "stdout",
     "output_type": "stream",
     "text": [
      "                    precision    recall  f1-score   support\n",
      "\n",
      " Low income (<50k)     0.9578    0.9528    0.9553     72669\n",
      "High income (>50k)     0.4748    0.5041    0.4890      6157\n",
      "\n",
      "          accuracy                         0.9177     78826\n",
      "         macro avg     0.7163    0.7285    0.7222     78826\n",
      "      weighted avg     0.9200    0.9177    0.9188     78826\n",
      "\n"
     ]
    },
    {
     "data": {
      "image/png": "[encoded data removed]",
      "text/plain": [
       "<Figure size 432x288 with 1 Axes>"
      ]
     },
     "metadata": {
      "needs_background": "light"
     },
     "output_type": "display_data"
    }
   ],
   "source": [
    "# Same with decision tree\n",
    "evaluate_model(dt_clf, X_train_new_features, y_train, X_test_new_features, y_test, curves=True)"
   ]
  },
  {
   "cell_type": "markdown",
   "metadata": {},
   "source": [
    "This couple of extra features did not quite do the trick. They marginally improved f1 score on the decision tree, but not on the log reg model.\n",
    "\n",
    "Note that this is a very important part of data modelling. As such, feature engineering would probably require a fair bit of extra investigation."
   ]
  },
  {
   "cell_type": "markdown",
   "metadata": {},
   "source": [
    "Before diving into the next part, let us check whether combining SMOTE with our extra features further improves log reg model performance or not"
   ]
  },
  {
   "cell_type": "code",
   "execution_count": 134,
   "metadata": {},
   "outputs": [
    {
     "name": "stdout",
     "output_type": "stream",
     "text": [
      "                    precision    recall  f1-score   support\n",
      "\n",
      " Low income (<50k)     0.9640    0.9452    0.9545     72669\n",
      "High income (>50k)     0.4741    0.5832    0.5231      6157\n",
      "\n",
      "          accuracy                         0.9169     78826\n",
      "         macro avg     0.7191    0.7642    0.7388     78826\n",
      "      weighted avg     0.9257    0.9169    0.9208     78826\n",
      "\n"
     ]
    }
   ],
   "source": [
    "X_train_resampled_new_features, y_train_resampled_new_features = SMOTE(sampling_strategy=\"auto\", random_state=42).fit_resample(X_train_new_features, y_train)\n",
    "evaluate_model(lr_clf, X_train_resampled_new_features, y_train_resampled_new_features, X_test_new_features, y_test, curves=False)"
   ]
  },
  {
   "cell_type": "markdown",
   "metadata": {},
   "source": [
    "This is not the case, therefore we will completely abandon extra features for non-tree based models"
   ]
  },
  {
   "cell_type": "markdown",
   "metadata": {},
   "source": [
    "##### **#2.5 : More complex models**"
   ]
  },
  {
   "cell_type": "markdown",
   "metadata": {},
   "source": [
    "While we found a couple of preprocessing tricks to improve model performance, there is still room for improvement. Before diving into fine-tuning, we can try out a couple of different models, a little bit more elaborate than our two baselines models."
   ]
  },
  {
   "cell_type": "code",
   "execution_count": 135,
   "metadata": {},
   "outputs": [
    {
     "name": "stdout",
     "output_type": "stream",
     "text": [
      "                    precision    recall  f1-score   support\n",
      "\n",
      " Low income (<50k)     0.9518    0.9872    0.9692     72669\n",
      "High income (>50k)     0.7308    0.4106    0.5258      6157\n",
      "\n",
      "          accuracy                         0.9422     78826\n",
      "         macro avg     0.8413    0.6989    0.7475     78826\n",
      "      weighted avg     0.9346    0.9422    0.9346     78826\n",
      "\n"
     ]
    }
   ],
   "source": [
    "# Random forest classifier\n",
    "from sklearn.ensemble import RandomForestClassifier\n",
    "\n",
    "rf_clf = RandomForestClassifier(class_weight=\"balanced\", random_state=42)\n",
    "\n",
    "evaluate_model(rf_clf, X_train_new_features, y_train, X_test_new_features, y_test, curves=False)"
   ]
  },
  {
   "cell_type": "code",
   "execution_count": 136,
   "metadata": {},
   "outputs": [
    {
     "name": "stdout",
     "output_type": "stream",
     "text": [
      "                    precision    recall  f1-score   support\n",
      "\n",
      " Low income (<50k)     0.9516    0.9894    0.9701     72669\n",
      "High income (>50k)     0.7636    0.4056    0.5298      6157\n",
      "\n",
      "          accuracy                         0.9438     78826\n",
      "         macro avg     0.8576    0.6975    0.7499     78826\n",
      "      weighted avg     0.9369    0.9438    0.9357     78826\n",
      "\n"
     ]
    }
   ],
   "source": [
    "# Gradient boosted trees\n",
    "from sklearn.ensemble import GradientBoostingClassifier\n",
    "\n",
    "gb_clf = GradientBoostingClassifier(random_state=42)\n",
    "\n",
    "evaluate_model(gb_clf, X_train_new_features, y_train, X_test_new_features, y_test, curves=False)"
   ]
  },
  {
   "cell_type": "code",
   "execution_count": 137,
   "metadata": {},
   "outputs": [
    {
     "name": "stdout",
     "output_type": "stream",
     "text": [
      "                    precision    recall  f1-score   support\n",
      "\n",
      " Low income (<50k)     0.9662    0.9401    0.9530     72669\n",
      "High income (>50k)     0.4640    0.6120    0.5278      6157\n",
      "\n",
      "          accuracy                         0.9145     78826\n",
      "         macro avg     0.7151    0.7760    0.7404     78826\n",
      "      weighted avg     0.9270    0.9145    0.9198     78826\n",
      "\n"
     ]
    }
   ],
   "source": [
    "# Stochastic Gradient Descent\n",
    "from sklearn.linear_model import SGDClassifier\n",
    "\n",
    "sgd_clf = SGDClassifier(loss=\"log\", class_weight=\"balanced\", random_state=42)\n",
    "\n",
    "evaluate_model(sgd_clf, X_train_resampled, y_train_resampled, X_test, y_test, curves=False)"
   ]
  },
  {
   "cell_type": "markdown",
   "metadata": {},
   "source": [
    "Without any fine-tuning, we can already see that all of these models already outperform our two baselines models.\n",
    "\n",
    "They are actually pretty close to each other in terms of performance.\n",
    "\n",
    "In the next section, we will compare them with different sets of hyperparameters to find the best predictive model."
   ]
  },
  {
   "cell_type": "markdown",
   "metadata": {},
   "source": [
    "##### **#2.6 : A note on feature selection**"
   ]
  },
  {
   "cell_type": "markdown",
   "metadata": {},
   "source": [
    "Before we dive into fine tuning, it is worth noting that feature selection can sometimes improve model performance, getting rid of noise and avoiding dimensionality issues.\n",
    "\n",
    "Since we do not have a major problem of overfitting, we will not perform feature selection here.\n",
    "\n",
    "There is an example of feature selection for the SGD classifier below, yielding a lower f1 score than the \"raw\" equivalent classifier."
   ]
  },
  {
   "cell_type": "code",
   "execution_count": 138,
   "metadata": {},
   "outputs": [
    {
     "name": "stdout",
     "output_type": "stream",
     "text": [
      "                    precision    recall  f1-score   support\n",
      "\n",
      " Low income (<50k)     0.9645    0.9263    0.9450     72669\n",
      "High income (>50k)     0.4070    0.5970    0.4840      6157\n",
      "\n",
      "          accuracy                         0.9006     78826\n",
      "         macro avg     0.6857    0.7617    0.7145     78826\n",
      "      weighted avg     0.9209    0.9006    0.9090     78826\n",
      "\n"
     ]
    }
   ],
   "source": [
    "from sklearn.feature_selection import SelectFromModel\n",
    "from sklearn.pipeline import Pipeline\n",
    "\n",
    "sgd_clf_with_fs = Pipeline(steps=[\n",
    "    (\"feature_selec\", SelectFromModel(\n",
    "        estimator=LogisticRegression(max_iter=5000, class_weight=\"balanced\", random_state=42),\n",
    "        threshold=\"median\"\n",
    "    )),\n",
    "    (\"classifier\", SGDClassifier(loss=\"log\", class_weight=\"balanced\", random_state=42))\n",
    "])\n",
    "\n",
    "evaluate_model(sgd_clf_with_fs, X_train_resampled, y_train_resampled, X_test, y_test, curves=False)"
   ]
  },
  {
   "cell_type": "markdown",
   "metadata": {},
   "source": [
    "___\n",
    "#### **#3 : Fine tuning and model assessment**\n",
    "\n",
    "In this final section, we will perform grid search combined with cross validation to find the best set of hyper parameters for each of our three models, which are :\n",
    "- Random Forest\n",
    "- Gradient Boosting\n",
    "- Stochastic Gradient Descent\n",
    "\n",
    "We will then pick the overall best performing model for further analysis"
   ]
  },
  {
   "cell_type": "code",
   "execution_count": 139,
   "metadata": {},
   "outputs": [],
   "source": [
    "from sklearn.model_selection import GridSearchCV\n",
    "from sklearn.metrics import f1_score"
   ]
  },
  {
   "cell_type": "markdown",
   "metadata": {},
   "source": [
    "##### **#3.1 : Random Forest**"
   ]
  },
  {
   "cell_type": "code",
   "execution_count": null,
   "metadata": {},
   "outputs": [],
   "source": [
    "# Random Forest\n",
    "'''rf_params = {\n",
    "    \"n_estimators\": [500, 1000, 2000],\n",
    "    \"criterion\" : [\"entropy\"],\n",
    "    \"class_weight\": [\"balanced\"]\n",
    "}\n",
    "\n",
    "rf_gscsv = GridSearchCV(\n",
    "    estimator=RandomForestClassifier(),\n",
    "    param_grid=rf_params,\n",
    "    scoring=\"f1_macro\",\n",
    "    verbose=1\n",
    ")\n",
    "\n",
    "rf_gscsv = rf_gscsv.fit(X_train_new_features, y_train)'''"
   ]
  },
  {
   "cell_type": "code",
   "execution_count": null,
   "metadata": {},
   "outputs": [
    {
     "name": "stdout",
     "output_type": "stream",
     "text": [
      "===== Random Forest Best Model ====\n",
      "f1-score validation :  0.7494  with  {'class_weight': 'balanced', 'criterion': 'entropy', 'n_estimators': 2000}\n",
      "f1-score on test set :  0.7552\n",
      "                    precision    recall  f1-score   support\n",
      "\n",
      " Low income (<50k)     0.9536    0.9855    0.9693     72669\n",
      "High income (>50k)     0.7177    0.4343    0.5411      6157\n",
      "\n",
      "          accuracy                         0.9425     78826\n",
      "         macro avg     0.8356    0.7099    0.7552     78826\n",
      "      weighted avg     0.9352    0.9425    0.9359     78826\n",
      "\n"
     ]
    }
   ],
   "source": [
    "print(\"===== Random Forest Best Model ====\")\n",
    "\n",
    "print(\"f1-score validation : \", round(rf_gscsv.best_score_, 4), \" with \", rf_gscsv.best_params_)\n",
    "\n",
    "y_pred = rf_gscsv.best_estimator_.predict(X_test_new_features)\n",
    "score = f1_score(y_test, y_pred, average=\"macro\")\n",
    "print(\"f1-score on test set : \", round(score, 4))\n",
    "\n",
    "print(classification_report(y_test, y_pred, target_names=[\"Low income (<50k)\", \"High income (>50k)\"], digits=4))"
   ]
  },
  {
   "cell_type": "markdown",
   "metadata": {},
   "source": [
    "##### **#3.2 : Gradient Boosting**"
   ]
  },
  {
   "cell_type": "code",
   "execution_count": null,
   "metadata": {},
   "outputs": [],
   "source": [
    "'''gb_params = {\n",
    "    \"n_estimators\": [100, 500],\n",
    "    \"learning_rate\": [0.1],\n",
    "    \"max_depth\": [3, 5, 10],\n",
    "}\n",
    "\n",
    "gb_gscsv = GridSearchCV(\n",
    "    estimator=GradientBoostingClassifier(),\n",
    "    param_grid=gb_params,\n",
    "    scoring=\"f1_macro\",\n",
    "    verbose=1,\n",
    "    cv=3\n",
    ")\n",
    "\n",
    "gb_gscsv = gb_gscsv.fit(X_train_new_features, y_train)'''"
   ]
  },
  {
   "cell_type": "code",
   "execution_count": null,
   "metadata": {},
   "outputs": [
    {
     "name": "stdout",
     "output_type": "stream",
     "text": [
      "===== Gradient Boosting Best Model ====\n",
      "f1-score validation :  0.7795  with  {'learning_rate': 0.1, 'max_depth': 5, 'n_estimators': 500}\n",
      "f1-score on test set :  0.7638\n",
      "                    precision    recall  f1-score   support\n",
      "\n",
      " Low income (<50k)     0.9562    0.9821    0.9690     72669\n",
      "High income (>50k)     0.6893    0.4695    0.5586      6157\n",
      "\n",
      "          accuracy                         0.9420     78826\n",
      "         macro avg     0.8228    0.7258    0.7638     78826\n",
      "      weighted avg     0.9354    0.9420    0.9369     78826\n",
      "\n"
     ]
    }
   ],
   "source": [
    "print(\"===== Gradient Boosting Best Model ====\")\n",
    "\n",
    "print(\"f1-score validation : \", round(gb_gscsv.best_score_, 4), \" with \", gb_gscsv.best_params_)\n",
    "\n",
    "y_pred = gb_gscsv.best_estimator_.predict(X_test_new_features)\n",
    "score = f1_score(y_test, y_pred, average=\"macro\")\n",
    "print(\"f1-score on test set : \", round(score, 4))\n",
    "\n",
    "print(classification_report(y_test, y_pred, target_names=[\"Low income (<50k)\", \"High income (>50k)\"], digits=4))"
   ]
  },
  {
   "cell_type": "markdown",
   "metadata": {},
   "source": [
    "##### **#3.3 : SGD**"
   ]
  },
  {
   "cell_type": "code",
   "execution_count": null,
   "metadata": {},
   "outputs": [],
   "source": [
    "'''sgd_params = {\n",
    "    \"alpha\": [0.0001, 0.001, 0.01],\n",
    "    \"penalty\": [\"l1\", \"l2\"],\n",
    "    \"loss\": [\"log\"],\n",
    "    \"class_weight\": [\"balanced\"],\n",
    "    \"max_iter\": [2000]\n",
    "}\n",
    "\n",
    "sgd_gscsv = GridSearchCV(\n",
    "    estimator=SGDClassifier(),\n",
    "    param_grid=sgd_params,\n",
    "    scoring=\"f1_macro\",\n",
    "    verbose=1,\n",
    "    cv=3\n",
    ")\n",
    "\n",
    "sgd_gscsv = sgd_gscsv.fit(X_train_resampled, y_train_resampled)'''"
   ]
  },
  {
   "cell_type": "code",
   "execution_count": 143,
   "metadata": {},
   "outputs": [
    {
     "name": "stdout",
     "output_type": "stream",
     "text": [
      "===== SGD Best Model ====\n",
      "f1-score validation :  0.925  with  {'alpha': 0.0001, 'class_weight': 'balanced', 'loss': 'log', 'max_iter': 2000, 'penalty': 'l2'}\n",
      "f1-score on test set :  0.7328\n",
      "                    precision    recall  f1-score   support\n",
      "\n",
      " Low income (<50k)     0.9688    0.9276    0.9478     72669\n",
      "High income (>50k)     0.4313    0.6477    0.5178      6157\n",
      "\n",
      "          accuracy                         0.9058     78826\n",
      "         macro avg     0.7001    0.7877    0.7328     78826\n",
      "      weighted avg     0.9268    0.9058    0.9142     78826\n",
      "\n"
     ]
    }
   ],
   "source": [
    "print(\"===== SGD Best Model ====\")\n",
    "\n",
    "print(\"f1-score validation : \", round(sgd_gscsv.best_score_, 4), \" with \", sgd_gscsv.best_params_)\n",
    "\n",
    "y_pred = sgd_gscsv.best_estimator_.predict(X_test)\n",
    "score = f1_score(y_test, y_pred, average=\"macro\")\n",
    "print(\"f1-score on test set : \", round(score, 4))\n",
    "\n",
    "print(classification_report(y_test, y_pred, target_names=[\"Low income (<50k)\", \"High income (>50k)\"], digits=4))"
   ]
  },
  {
   "cell_type": "markdown",
   "metadata": {},
   "source": [
    "##### **#3.4 : Best model**"
   ]
  },
  {
   "cell_type": "markdown",
   "metadata": {},
   "source": [
    "After tuning and testing, we can find the best performing model to be **Gradient Boosting**, a tree-based model, with an average f1-score of **76,38%**\n",
    "\n",
    "The score is pretty low, especially on the \"high income\" class (minority class). While we managed to improve precision on this class by quite a bit, recall is still low. \n",
    "\n",
    "Before concluding, let us take a final look at feature importance for our best fitted model"
   ]
  },
  {
   "cell_type": "code",
   "execution_count": 154,
   "metadata": {},
   "outputs": [
    {
     "data": {
      "text/html": [
       "<div>\n",
       "<style scoped>\n",
       "    .dataframe tbody tr th:only-of-type {\n",
       "        vertical-align: middle;\n",
       "    }\n",
       "\n",
       "    .dataframe tbody tr th {\n",
       "        vertical-align: top;\n",
       "    }\n",
       "\n",
       "    .dataframe thead th {\n",
       "        text-align: right;\n",
       "    }\n",
       "</style>\n",
       "<table border=\"1\" class=\"dataframe\">\n",
       "  <thead>\n",
       "    <tr style=\"text-align: right;\">\n",
       "      <th></th>\n",
       "      <th>score</th>\n",
       "    </tr>\n",
       "  </thead>\n",
       "  <tbody>\n",
       "    <tr>\n",
       "      <th>capital gains</th>\n",
       "      <td>0.237</td>\n",
       "    </tr>\n",
       "    <tr>\n",
       "      <th>dividends from stocks</th>\n",
       "      <td>0.128</td>\n",
       "    </tr>\n",
       "    <tr>\n",
       "      <th>weeks worked in year</th>\n",
       "      <td>0.098</td>\n",
       "    </tr>\n",
       "    <tr>\n",
       "      <th>sex_Female</th>\n",
       "      <td>0.095</td>\n",
       "    </tr>\n",
       "    <tr>\n",
       "      <th>capital losses</th>\n",
       "      <td>0.050</td>\n",
       "    </tr>\n",
       "    <tr>\n",
       "      <th>major occupation code_Executive admin and managerial</th>\n",
       "      <td>0.046</td>\n",
       "    </tr>\n",
       "    <tr>\n",
       "      <th>age</th>\n",
       "      <td>0.046</td>\n",
       "    </tr>\n",
       "    <tr>\n",
       "      <th>major occupation code_Professional specialty</th>\n",
       "      <td>0.039</td>\n",
       "    </tr>\n",
       "    <tr>\n",
       "      <th>education_Prof school degree (MD DDS DVM LLB JD)</th>\n",
       "      <td>0.033</td>\n",
       "    </tr>\n",
       "    <tr>\n",
       "      <th>education_Masters degree(MA MS MEng MEd MSW MBA)</th>\n",
       "      <td>0.030</td>\n",
       "    </tr>\n",
       "    <tr>\n",
       "      <th>education_Bachelors degree(BA AB BS)</th>\n",
       "      <td>0.025</td>\n",
       "    </tr>\n",
       "    <tr>\n",
       "      <th>education_Doctorate degree(PhD EdD)</th>\n",
       "      <td>0.024</td>\n",
       "    </tr>\n",
       "    <tr>\n",
       "      <th>detailed occupation recode_2</th>\n",
       "      <td>0.022</td>\n",
       "    </tr>\n",
       "    <tr>\n",
       "      <th>nb of employees in company estimate</th>\n",
       "      <td>0.022</td>\n",
       "    </tr>\n",
       "    <tr>\n",
       "      <th>tax filer stat_Joint both under 65</th>\n",
       "      <td>0.008</td>\n",
       "    </tr>\n",
       "    <tr>\n",
       "      <th>earnings estimate</th>\n",
       "      <td>0.008</td>\n",
       "    </tr>\n",
       "    <tr>\n",
       "      <th>class of worker_Self-employed-incorporated</th>\n",
       "      <td>0.007</td>\n",
       "    </tr>\n",
       "    <tr>\n",
       "      <th>detailed occupation recode_4</th>\n",
       "      <td>0.007</td>\n",
       "    </tr>\n",
       "    <tr>\n",
       "      <th>num persons worked for employer_6</th>\n",
       "      <td>0.007</td>\n",
       "    </tr>\n",
       "    <tr>\n",
       "      <th>tax amount estimate</th>\n",
       "      <td>0.006</td>\n",
       "    </tr>\n",
       "  </tbody>\n",
       "</table>\n",
       "</div>"
      ],
      "text/plain": [
       "                                                    score\n",
       "capital gains                                       0.237\n",
       "dividends from stocks                               0.128\n",
       "weeks worked in year                                0.098\n",
       "sex_Female                                          0.095\n",
       "capital losses                                      0.050\n",
       "major occupation code_Executive admin and manag...  0.046\n",
       "age                                                 0.046\n",
       "major occupation code_Professional specialty        0.039\n",
       "education_Prof school degree (MD DDS DVM LLB JD)    0.033\n",
       "education_Masters degree(MA MS MEng MEd MSW MBA)    0.030\n",
       "education_Bachelors degree(BA AB BS)                0.025\n",
       "education_Doctorate degree(PhD EdD)                 0.024\n",
       "detailed occupation recode_2                        0.022\n",
       "nb of employees in company estimate                 0.022\n",
       "tax filer stat_Joint both under 65                  0.008\n",
       "earnings estimate                                   0.008\n",
       "class of worker_Self-employed-incorporated          0.007\n",
       "detailed occupation recode_4                        0.007\n",
       "num persons worked for employer_6                   0.007\n",
       "tax amount estimate                                 0.006"
      ]
     },
     "execution_count": 154,
     "metadata": {},
     "output_type": "execute_result"
    }
   ],
   "source": [
    "feature_imp = pd.DataFrame(data=gb_gscsv.best_estimator_.feature_importances_, index=X_train_new_features.columns, columns=[\"score\"])\n",
    "feature_imp.sort_values(\"score\", ascending=False).head(20)"
   ]
  },
  {
   "cell_type": "markdown",
   "metadata": {},
   "source": [
    "___\n",
    "#### **Future improvements**"
   ]
  },
  {
   "cell_type": "markdown",
   "metadata": {},
   "source": [
    "- Collect **additional observations** of the minority class to resolve balancing issue.\n",
    "- Perform more **feature engineering** with domain expertise and gathering of extra data if necessary\n",
    "- Take a deeper dive into **feature importance**, for instance by computing Shapley values after modelling\n",
    "- Further investigate **dependencies in-between features** to avoid multicollinearity"
   ]
  }
 ],
 "metadata": {
  "interpreter": {
   "hash": "7b0d1bc37e4150564005d2f0757eca3230f3c8295ef7a49a1da484b71996b598"
  },
  "kernelspec": {
   "display_name": "Python 3.9.6 64-bit ('venv': venv)",
   "language": "python",
   "name": "python3"
  },
  "language_info": {
   "codemirror_mode": {
    "name": "ipython",
    "version": 3
   },
   "file_extension": ".py",
   "mimetype": "text/x-python",
   "name": "python",
   "nbconvert_exporter": "python",
   "pygments_lexer": "ipython3",
   "version": "3.9.6"
  },
  "orig_nbformat": 4
 },
 "nbformat": 4,
 "nbformat_minor": 2
}
