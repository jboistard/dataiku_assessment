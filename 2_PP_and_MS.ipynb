{
 "cells": [
  {
   "cell_type": "markdown",
   "metadata": {},
   "source": [
    "# **Dataiku Data Scientist Technical Assessment**\n",
    "### Author : Jules Boistard\n",
    "### Submission date : January 18th, 2022\n",
    "___"
   ]
  },
  {
   "cell_type": "markdown",
   "metadata": {},
   "source": [
    "#### **#2 : Pre-processing and preliminary model selection**\n",
    "\n",
    "The goal here is to iteratively find the best pre-processing pipeline based on a simple basic machine learning model, adding/removing steps along the way.\n",
    "\n",
    "This section **does not** aim at finding the best performing model. This will be the focus of the next section (\"model selection\")."
   ]
  },
  {
   "cell_type": "markdown",
   "metadata": {},
   "source": [
    "##### **#2.1 : Importing and splitting data**"
   ]
  },
  {
   "cell_type": "code",
   "execution_count": 3,
   "metadata": {},
   "outputs": [],
   "source": [
    "# Read the train and test files\n",
    "# NB : we do not want instance weight for machine learning training\n",
    "import pandas as pd\n",
    "\n",
    "train = pd.read_csv(\"data/train_clean.csv\", header=0)\n",
    "test = pd.read_csv(\"data/test_clean.csv\", header=0)\n",
    "data = pd.concat([train, test], ignore_index=True)\n",
    "\n",
    "# Split datasets into features set and target variable\n",
    "# Note : target classes \"-50k\" and \">50k\" will respectively be labelled 0 and 1\n",
    "X_train = train.iloc[:, :-2]\n",
    "X_test = test.iloc[:, :-2]\n",
    "y_train = train.iloc[:, -2].map(lambda s: 0 if \"-\" in s else 1)\n",
    "y_test = test.iloc[:, -2].map(lambda s: 0 if \"-\" in s else 1)"
   ]
  },
  {
   "cell_type": "markdown",
   "metadata": {},
   "source": [
    "##### **#2.2 : Building baseline models**"
   ]
  },
  {
   "cell_type": "markdown",
   "metadata": {},
   "source": [
    "As a very first step, we will compare two very basic models, on which we will perform minimal pre-processing :\n",
    "- One linear : a logistic regression model\n",
    "- One non linear : a decision tree\n",
    "\n",
    "Our first pre-processing pipeline will consist in 4 basic steps :\n",
    "1. Drop columns with ~50% NaN Values (see part 1 : EDA)\n",
    "2. Impute NaN values with most frequent class for other columns wit missing values (see part 1 : EDA)\n",
    "3. Encode our remaining categorical features with ordinal encoding for the decision tree (for minimal computation time) and one hot encoding for the logistic regression model\n",
    "4. Perform standard scaling for our numerical features"
   ]
  },
  {
   "cell_type": "code",
   "execution_count": 4,
   "metadata": {},
   "outputs": [],
   "source": [
    "# Let us first define different sets of features\n",
    "base_num_cols = [\"age\", \"wage per hour\", \"capital gains\", \"capital losses\", \"dividends from stocks\", \"num persons worked for employer\", \"weeks worked in year\"]\n",
    "base_cat_cols = [col for col in X_train.columns if col not in base_num_cols]"
   ]
  },
  {
   "cell_type": "code",
   "execution_count": 5,
   "metadata": {},
   "outputs": [],
   "source": [
    "# Preprocessing pipeline builder\n",
    "from sklearn.compose import ColumnTransformer\n",
    "from sklearn.pipeline import Pipeline\n",
    "from sklearn.impute import SimpleImputer\n",
    "from sklearn.preprocessing import OrdinalEncoder, StandardScaler, OneHotEncoder\n",
    "\n",
    "def build_preprocessor(ordinal_encoding=True, cols_to_drop=None, cols_to_keep=None):\n",
    "    \n",
    "    if cols_to_drop:\n",
    "        cat_cols = list(set(base_cat_cols).difference(set(cols_to_drop)))\n",
    "        num_cols = list(set(base_num_cols).difference(set(cols_to_drop)))\n",
    "    elif cols_to_keep:\n",
    "        cat_cols = list(set(base_cat_cols).intersection(set(cols_to_keep)))\n",
    "        num_cols = list(set(base_num_cols).intersection(set(cols_to_keep)))\n",
    "    else:\n",
    "        cat_cols = base_cat_cols\n",
    "        num_cols = base_num_cols\n",
    "\n",
    "    categories = [sorted(data[col].dropna().unique()) for col in cat_cols]\n",
    "\n",
    "    cat_transformer = Pipeline(steps=[\n",
    "        (\"imputer\", SimpleImputer(strategy=\"most_frequent\")),\n",
    "        (\"encoder\", OrdinalEncoder(categories=categories) if ordinal_encoding else OneHotEncoder(categories=categories))\n",
    "    ])\n",
    "\n",
    "    num_transformer = Pipeline(steps=[\n",
    "        (\"scaler\", StandardScaler())\n",
    "    ])\n",
    "\n",
    "    preprocessor = ColumnTransformer(transformers=[\n",
    "        (\"dropper\", \"drop\", cols_to_drop),\n",
    "        (\"categorical\", cat_transformer, cat_cols),\n",
    "        (\"numerical\", num_transformer, num_cols)\n",
    "    ], remainder=\"passthrough\")\n",
    "\n",
    "    return preprocessor"
   ]
  },
  {
   "cell_type": "code",
   "execution_count": 6,
   "metadata": {},
   "outputs": [],
   "source": [
    "# Define evaluation procedure\n",
    "from sklearn.metrics import classification_report\n",
    "from sklearn.model_selection import learning_curve\n",
    "import matplotlib.pyplot as plt\n",
    "\n",
    "def evaluate_model(model, X_train, y_train, X_test, y_test, curves=True):\n",
    "    model.fit(X_train, y_train)\n",
    "    y_pred = model.predict(X_test)\n",
    "\n",
    "    print(classification_report(y_test, y_pred, target_names=[\"Low income (<50k)\", \"High income (>50k)\"], digits=4))\n",
    "\n",
    "    if curves:\n",
    "        N, train_score, val_score = learning_curve(model, X_train, y_train, scoring=\"f1_macro\")\n",
    "        plt.figure()\n",
    "        plt.plot(N, train_score.mean(axis=1), label=\"train score\")\n",
    "        plt.plot(N, val_score.mean(axis=1), label=\"val score\")\n",
    "        plt.legend()\n"
   ]
  },
  {
   "cell_type": "markdown",
   "metadata": {},
   "source": [
    "**Important** : we do not value one of the 2 target classes more than the other. In other words, good predictions are equally important for the \"low income\" and \"high income\" classes. On the other hand, accuracy will not do because of class imbalance (~94%/6%). We can therefore choose the **macro averaged f1-score** as our performance metric."
   ]
  },
  {
   "cell_type": "code",
   "execution_count": 7,
   "metadata": {},
   "outputs": [
    {
     "name": "stdout",
     "output_type": "stream",
     "text": [
      "                    precision    recall  f1-score   support\n",
      "\n",
      " Low income (<50k)     0.9871    0.8435    0.9097     72669\n",
      "High income (>50k)     0.3201    0.8696    0.4680      6157\n",
      "\n",
      "          accuracy                         0.8456     78826\n",
      "         macro avg     0.6536    0.8566    0.6888     78826\n",
      "      weighted avg     0.9350    0.8456    0.8752     78826\n",
      "\n"
     ]
    },
    {
     "data": {
      "image/png": "[encoded data removed]",
      "text/plain": [
       "<Figure size 432x288 with 1 Axes>"
      ]
     },
     "metadata": {
      "needs_background": "light"
     },
     "output_type": "display_data"
    }
   ],
   "source": [
    "# Building and evaluating a baseline logistic regression model\n",
    "from sklearn.linear_model import LogisticRegression\n",
    "\n",
    "lr_clf = Pipeline(steps=[\n",
    "    (\"preprocessing\", build_preprocessor(\n",
    "        ordinal_encoding=False, #One hot encoding\n",
    "        cols_to_drop = [\"migration code-change in msa\", \"migration code-change in reg\", \"migration code-move within reg\", \"migration prev res in sunbelt\"]\n",
    "    )),\n",
    "    (\"classifier\", LogisticRegression(max_iter=5000, class_weight=\"balanced\", random_state=42))    \n",
    "])\n",
    "\n",
    "evaluate_model(lr_clf, X_train, y_train, X_test, y_test, curves=True)"
   ]
  },
  {
   "cell_type": "code",
   "execution_count": 8,
   "metadata": {},
   "outputs": [
    {
     "name": "stdout",
     "output_type": "stream",
     "text": [
      "                    precision    recall  f1-score   support\n",
      "\n",
      " Low income (<50k)     0.9552    0.9536    0.9544     72669\n",
      "High income (>50k)     0.4626    0.4718    0.4672      6157\n",
      "\n",
      "          accuracy                         0.9159     78826\n",
      "         macro avg     0.7089    0.7127    0.7108     78826\n",
      "      weighted avg     0.9167    0.9159    0.9163     78826\n",
      "\n"
     ]
    },
    {
     "data": {
      "image/png": "[encoded data removed]",
      "text/plain": [
       "<Figure size 432x288 with 1 Axes>"
      ]
     },
     "metadata": {
      "needs_background": "light"
     },
     "output_type": "display_data"
    }
   ],
   "source": [
    "# Building and evaluating a baseline decision tree\n",
    "from sklearn.tree import DecisionTreeClassifier\n",
    "\n",
    "dt_clf = Pipeline(steps=[\n",
    "    (\"preprocessor\", build_preprocessor(\n",
    "        ordinal_encoding=True,\n",
    "        cols_to_drop=[\"migration code-change in msa\", \"migration code-change in reg\", \"migration code-move within reg\", \"migration prev res in sunbelt\"]\n",
    "    )),\n",
    "    (\"classifier\", DecisionTreeClassifier(criterion=\"entropy\", class_weight=\"balanced\", random_state=42))\n",
    "])\n",
    "\n",
    "evaluate_model(dt_clf, X_train, y_train, X_test, y_test, curves=True)"
   ]
  },
  {
   "cell_type": "markdown",
   "metadata": {},
   "source": [
    "A couple things worth noting :\n",
    "- The **decision tree performs a little bit better** than the logistic regression model. The difference is however not that big. We will therefore continue to compare the both of them throughout the next steps.\n",
    "- Depending on the context, we could favor one based on individual f1, recall or sensitivity scores for one of the two classes.\n",
    "- Overall, the performance is not very good. While the f1 score is not too bad on the majority class (low income) it is, as could be expected, quite poor for the minority class (high income).\n",
    "\n",
    "To adress the issue of underfitting, we will try the following pre-processing operations :\n",
    "- Perform over-sampling to increase the representation of the minority class\n",
    "- Perform some feature engineering"
   ]
  },
  {
   "cell_type": "markdown",
   "metadata": {},
   "source": [
    "##### **#2.3 : Over sampling**"
   ]
  },
  {
   "cell_type": "markdown",
   "metadata": {},
   "source": [
    "Let us try and perform over sampling through a SMOTE algorithm (Synthetic Minority Oversampling TEchnique). The goal is to artificially create observations for the minority class \"in between\" real observations from the same class in the feature space, up until the two classes have an equal number of observations"
   ]
  },
  {
   "cell_type": "code",
   "execution_count": 9,
   "metadata": {},
   "outputs": [
    {
     "name": "stdout",
     "output_type": "stream",
     "text": [
      "                    precision    recall  f1-score   support\n",
      "\n",
      " Low income (<50k)     0.9855    0.8517    0.9137     72669\n",
      "High income (>50k)     0.3273    0.8520    0.4730      6157\n",
      "\n",
      "          accuracy                         0.8517     78826\n",
      "         macro avg     0.6564    0.8518    0.6933     78826\n",
      "      weighted avg     0.9341    0.8517    0.8793     78826\n",
      "\n"
     ]
    }
   ],
   "source": [
    "# Try and perform over sampling on the log reg model\n",
    "from imblearn.over_sampling import SMOTE\n",
    "from imblearn.pipeline import Pipeline as imPipeline\n",
    "\n",
    "lr_clf_with_smote = imPipeline(steps=[\n",
    "    (\"preprocessor\", build_preprocessor(\n",
    "        ordinal_encoding=False, #One hot encoding\n",
    "        cols_to_drop=[\"migration code-change in msa\", \"migration code-change in reg\", \"migration code-move within reg\", \"migration prev res in sunbelt\"]\n",
    "    )),\n",
    "    (\"resampling\", SMOTE(sampling_strategy=\"auto\", random_state=42)),\n",
    "    (\"classifier\", LogisticRegression(max_iter=5000, class_weight=\"balanced\", random_state=42))\n",
    "])\n",
    "\n",
    "evaluate_model(lr_clf_with_smote, X_train, y_train, X_test, y_test, curves=False)"
   ]
  },
  {
   "cell_type": "code",
   "execution_count": 10,
   "metadata": {},
   "outputs": [
    {
     "name": "stdout",
     "output_type": "stream",
     "text": [
      "                    precision    recall  f1-score   support\n",
      "\n",
      " Low income (<50k)     0.9576    0.9407    0.9491     72669\n",
      "High income (>50k)     0.4206    0.5082    0.4603      6157\n",
      "\n",
      "          accuracy                         0.9069     78826\n",
      "         macro avg     0.6891    0.7244    0.7047     78826\n",
      "      weighted avg     0.9156    0.9069    0.9109     78826\n",
      "\n"
     ]
    }
   ],
   "source": [
    "# Same with decision tree\n",
    "dt_clf_with_smote = imPipeline(steps=[\n",
    "    (\"preprocessor\", build_preprocessor(\n",
    "        ordinal_encoding=True,\n",
    "        cols_to_drop=[\"migration code-change in msa\", \"migration code-change in reg\", \"migration code-move within reg\", \"migration prev res in sunbelt\"]\n",
    "    )),\n",
    "    (\"resampling\", SMOTE(sampling_strategy=\"auto\", random_state=42)),\n",
    "    (\"classifier\", DecisionTreeClassifier(criterion=\"entropy\", class_weight=\"balanced\", random_state=42))\n",
    "])\n",
    "evaluate_model(dt_clf_with_smote, X_train, y_train, X_test, y_test, curves=False)"
   ]
  },
  {
   "cell_type": "markdown",
   "metadata": {},
   "source": [
    "We can observe two different results :\n",
    "- Oversampling did improve the average f1 score of our logistic regression model, although not very much (~ +0.5%)\n",
    "- The same operation dit **not** improve the performance of our decision tree (~ -1%)"
   ]
  },
  {
   "cell_type": "markdown",
   "metadata": {},
   "source": [
    "##### **#2.4 : Feature engineering**"
   ]
  },
  {
   "cell_type": "markdown",
   "metadata": {},
   "source": [
    "We have tried adding observations. Let us now try to add features.\n",
    "\n",
    "Since we want to preserve some degree of \"explainability\" in our model, we will not make us of feature engineering algorithm such as polynomial features.\n",
    "\n",
    "However, we can try and add a couple of features **manually**, following from what we saw during our EDA (see part 1)"
   ]
  },
  {
   "cell_type": "code",
   "execution_count": 11,
   "metadata": {},
   "outputs": [],
   "source": [
    "def add_binary_features(X):\n",
    "\n",
    "    X_ = X.copy()\n",
    "\n",
    "    X_[\"adult\"] = X_[\"age\"].map(lambda val: 1 if val >= 18 else 0)\n",
    "\n",
    "    X_[\"working\"] = X_[\"weeks worked in year\"].map(lambda val: 1 if val > 0 else 0)\n",
    "\n",
    "    X_[\"extra earnings\"] = X_.apply(lambda row: 1 if row[[\"capital gains\", \"dividends from stocks\"]].sum() > 0 else 0, axis=1)\n",
    "\n",
    "    X_[\"is hispanic\"] = X_[\"hispanic origin\"].map(lambda val: 0 if val == \"All other\" else 1)\n",
    "\n",
    "    X_[\"high academic level\"] = X_[\"education\"].map(\n",
    "        lambda val: 1 if val in [\"Bachelors degree(BA AB BS)\", \"Masters degree(MA MS MEng MEd MSW MBA)\", \"Prof school degree (MD DDS DVM LLB JD)\", \"Doctorate degree(PhD EdD)\"] else 0\n",
    "    )\n",
    "    \n",
    "    # According to occupation recodes from documentation page 146\n",
    "    X_[\"executive or manager\"] = X_[\"detailed occupation recode\"].map(lambda val: 1 if val <=3 else 0) \n",
    "\n",
    "    # According to industry recodes from documentation page 131\n",
    "    X_[\"work in agriculture or industry\"] = X_[\"detailed industry recode\"].map(lambda val: 1 if val<=20 else 0)\n",
    "    X_[\"work in finance, insurance, real estate or business management\"] = X_[\"detailed industry recode\"].map(lambda val: 1 if val in [32, 33, 34, 37] else 0)\n",
    "\n",
    "    return X_\n",
    "\n",
    "X_train_extra_features = add_binary_features(X_train)\n",
    "X_test_extra_features = add_binary_features(X_test)"
   ]
  },
  {
   "cell_type": "code",
   "execution_count": 12,
   "metadata": {},
   "outputs": [
    {
     "name": "stdout",
     "output_type": "stream",
     "text": [
      "                    precision    recall  f1-score   support\n",
      "\n",
      " Low income (<50k)     0.9873    0.8469    0.9117     72669\n",
      "High income (>50k)     0.3252    0.8710    0.4736      6157\n",
      "\n",
      "          accuracy                         0.8487     78826\n",
      "         macro avg     0.6562    0.8589    0.6926     78826\n",
      "      weighted avg     0.9355    0.8487    0.8775     78826\n",
      "\n"
     ]
    }
   ],
   "source": [
    "# Try our new features with the log reg model\n",
    "lr_clf_with_extra_features = Pipeline(steps=[\n",
    "    (\"preprocessor\", build_preprocessor(\n",
    "        ordinal_encoding=False, #One hot encoding\n",
    "        cols_to_drop=[\"migration code-change in msa\", \"migration code-change in reg\", \"migration code-move within reg\", \"migration prev res in sunbelt\"]\n",
    "    )),\n",
    "    (\"classifier\", LogisticRegression(max_iter=5000, class_weight=\"balanced\", random_state=42))\n",
    "])\n",
    "\n",
    "evaluate_model(lr_clf_with_extra_features, X_train_extra_features, y_train, X_test_extra_features, y_test, curves=False)"
   ]
  },
  {
   "cell_type": "code",
   "execution_count": 13,
   "metadata": {},
   "outputs": [
    {
     "name": "stdout",
     "output_type": "stream",
     "text": [
      "                    precision    recall  f1-score   support\n",
      "\n",
      " Low income (<50k)     0.9562    0.9559    0.9560     72669\n",
      "High income (>50k)     0.4813    0.4835    0.4824      6157\n",
      "\n",
      "          accuracy                         0.9190     78826\n",
      "         macro avg     0.7188    0.7197    0.7192     78826\n",
      "      weighted avg     0.9191    0.9190    0.9190     78826\n",
      "\n"
     ]
    }
   ],
   "source": [
    "# Same with decision tree\n",
    "dt_clf_with_extra_features = Pipeline(steps=[\n",
    "    (\"preprocessor\", build_preprocessor(\n",
    "        ordinal_encoding=True,\n",
    "        cols_to_drop=[\"migration code-change in msa\", \"migration code-change in reg\", \"migration code-move within reg\", \"migration prev res in sunbelt\"]\n",
    "    )),\n",
    "    (\"classifier\", DecisionTreeClassifier(criterion=\"entropy\", class_weight=\"balanced\", random_state=42))\n",
    "])\n",
    "\n",
    "evaluate_model(dt_clf_with_extra_features, X_train_extra_features, y_train, X_test_extra_features, y_test, curves=False)"
   ]
  },
  {
   "cell_type": "markdown",
   "metadata": {},
   "source": [
    "This time we do have a slight improvement for both models compared to the baseline ones (~ + 0.4% for log reg and +0.6% for decision tree)\n",
    "\n",
    "We can now try to find which of the features had the most \"impact\" on prediction in the decision tree"
   ]
  },
  {
   "cell_type": "code",
   "execution_count": 18,
   "metadata": {},
   "outputs": [
    {
     "data": {
      "text/html": [
       "<div>\n",
       "<style scoped>\n",
       "    .dataframe tbody tr th:only-of-type {\n",
       "        vertical-align: middle;\n",
       "    }\n",
       "\n",
       "    .dataframe tbody tr th {\n",
       "        vertical-align: top;\n",
       "    }\n",
       "\n",
       "    .dataframe thead th {\n",
       "        text-align: right;\n",
       "    }\n",
       "</style>\n",
       "<table border=\"1\" class=\"dataframe\">\n",
       "  <thead>\n",
       "    <tr style=\"text-align: right;\">\n",
       "      <th></th>\n",
       "      <th>features</th>\n",
       "      <th>coef</th>\n",
       "    </tr>\n",
       "  </thead>\n",
       "  <tbody>\n",
       "    <tr>\n",
       "      <th>40</th>\n",
       "      <td>executive or manager</td>\n",
       "      <td>0.172</td>\n",
       "    </tr>\n",
       "    <tr>\n",
       "      <th>29</th>\n",
       "      <td>region of previous residence</td>\n",
       "      <td>0.129</td>\n",
       "    </tr>\n",
       "    <tr>\n",
       "      <th>33</th>\n",
       "      <td>fill inc questionnaire for veteran's admin</td>\n",
       "      <td>0.127</td>\n",
       "    </tr>\n",
       "    <tr>\n",
       "      <th>15</th>\n",
       "      <td>age</td>\n",
       "      <td>0.058</td>\n",
       "    </tr>\n",
       "    <tr>\n",
       "      <th>38</th>\n",
       "      <td>detailed household and family stat</td>\n",
       "      <td>0.050</td>\n",
       "    </tr>\n",
       "    <tr>\n",
       "      <th>14</th>\n",
       "      <td>state of previous residence</td>\n",
       "      <td>0.049</td>\n",
       "    </tr>\n",
       "    <tr>\n",
       "      <th>30</th>\n",
       "      <td>weeks worked in year</td>\n",
       "      <td>0.041</td>\n",
       "    </tr>\n",
       "    <tr>\n",
       "      <th>1</th>\n",
       "      <td>family members under 18</td>\n",
       "      <td>0.038</td>\n",
       "    </tr>\n",
       "    <tr>\n",
       "      <th>24</th>\n",
       "      <td>detailed occupation recode</td>\n",
       "      <td>0.032</td>\n",
       "    </tr>\n",
       "    <tr>\n",
       "      <th>12</th>\n",
       "      <td>capital losses</td>\n",
       "      <td>0.028</td>\n",
       "    </tr>\n",
       "    <tr>\n",
       "      <th>32</th>\n",
       "      <td>working</td>\n",
       "      <td>0.028</td>\n",
       "    </tr>\n",
       "    <tr>\n",
       "      <th>34</th>\n",
       "      <td>country of birth father</td>\n",
       "      <td>0.026</td>\n",
       "    </tr>\n",
       "    <tr>\n",
       "      <th>19</th>\n",
       "      <td>work in agriculture or industry</td>\n",
       "      <td>0.019</td>\n",
       "    </tr>\n",
       "    <tr>\n",
       "      <th>28</th>\n",
       "      <td>class of worker</td>\n",
       "      <td>0.016</td>\n",
       "    </tr>\n",
       "    <tr>\n",
       "      <th>35</th>\n",
       "      <td>education</td>\n",
       "      <td>0.016</td>\n",
       "    </tr>\n",
       "    <tr>\n",
       "      <th>6</th>\n",
       "      <td>hispanic origin</td>\n",
       "      <td>0.015</td>\n",
       "    </tr>\n",
       "    <tr>\n",
       "      <th>8</th>\n",
       "      <td>major occupation code</td>\n",
       "      <td>0.013</td>\n",
       "    </tr>\n",
       "    <tr>\n",
       "      <th>25</th>\n",
       "      <td>detailed household summary in household</td>\n",
       "      <td>0.012</td>\n",
       "    </tr>\n",
       "    <tr>\n",
       "      <th>27</th>\n",
       "      <td>country of birth mother</td>\n",
       "      <td>0.012</td>\n",
       "    </tr>\n",
       "    <tr>\n",
       "      <th>3</th>\n",
       "      <td>reason for unemployment</td>\n",
       "      <td>0.011</td>\n",
       "    </tr>\n",
       "    <tr>\n",
       "      <th>31</th>\n",
       "      <td>citizenship</td>\n",
       "      <td>0.010</td>\n",
       "    </tr>\n",
       "    <tr>\n",
       "      <th>7</th>\n",
       "      <td>high academic level</td>\n",
       "      <td>0.010</td>\n",
       "    </tr>\n",
       "    <tr>\n",
       "      <th>11</th>\n",
       "      <td>capital gains</td>\n",
       "      <td>0.009</td>\n",
       "    </tr>\n",
       "    <tr>\n",
       "      <th>18</th>\n",
       "      <td>num persons worked for employer</td>\n",
       "      <td>0.009</td>\n",
       "    </tr>\n",
       "    <tr>\n",
       "      <th>23</th>\n",
       "      <td>sex</td>\n",
       "      <td>0.009</td>\n",
       "    </tr>\n",
       "    <tr>\n",
       "      <th>26</th>\n",
       "      <td>year</td>\n",
       "      <td>0.009</td>\n",
       "    </tr>\n",
       "    <tr>\n",
       "      <th>16</th>\n",
       "      <td>dividends from stocks</td>\n",
       "      <td>0.007</td>\n",
       "    </tr>\n",
       "    <tr>\n",
       "      <th>21</th>\n",
       "      <td>major industry code</td>\n",
       "      <td>0.007</td>\n",
       "    </tr>\n",
       "    <tr>\n",
       "      <th>10</th>\n",
       "      <td>marital stat</td>\n",
       "      <td>0.005</td>\n",
       "    </tr>\n",
       "    <tr>\n",
       "      <th>17</th>\n",
       "      <td>wage per hour</td>\n",
       "      <td>0.005</td>\n",
       "    </tr>\n",
       "    <tr>\n",
       "      <th>13</th>\n",
       "      <td>veterans benefits</td>\n",
       "      <td>0.005</td>\n",
       "    </tr>\n",
       "    <tr>\n",
       "      <th>5</th>\n",
       "      <td>enroll in edu inst last wk</td>\n",
       "      <td>0.004</td>\n",
       "    </tr>\n",
       "    <tr>\n",
       "      <th>20</th>\n",
       "      <td>race</td>\n",
       "      <td>0.004</td>\n",
       "    </tr>\n",
       "    <tr>\n",
       "      <th>43</th>\n",
       "      <td>tax filer stat</td>\n",
       "      <td>0.004</td>\n",
       "    </tr>\n",
       "    <tr>\n",
       "      <th>39</th>\n",
       "      <td>is hispanic</td>\n",
       "      <td>0.003</td>\n",
       "    </tr>\n",
       "    <tr>\n",
       "      <th>2</th>\n",
       "      <td>detailed industry recode</td>\n",
       "      <td>0.002</td>\n",
       "    </tr>\n",
       "    <tr>\n",
       "      <th>22</th>\n",
       "      <td>country of birth self</td>\n",
       "      <td>0.002</td>\n",
       "    </tr>\n",
       "    <tr>\n",
       "      <th>42</th>\n",
       "      <td>adult</td>\n",
       "      <td>0.001</td>\n",
       "    </tr>\n",
       "    <tr>\n",
       "      <th>9</th>\n",
       "      <td>live in this house 1 year ago</td>\n",
       "      <td>0.001</td>\n",
       "    </tr>\n",
       "    <tr>\n",
       "      <th>41</th>\n",
       "      <td>work in finance, insurance, real estate or bus...</td>\n",
       "      <td>0.001</td>\n",
       "    </tr>\n",
       "    <tr>\n",
       "      <th>37</th>\n",
       "      <td>member of a labor union</td>\n",
       "      <td>0.000</td>\n",
       "    </tr>\n",
       "    <tr>\n",
       "      <th>4</th>\n",
       "      <td>own business or self employed</td>\n",
       "      <td>0.000</td>\n",
       "    </tr>\n",
       "    <tr>\n",
       "      <th>0</th>\n",
       "      <td>extra earnings</td>\n",
       "      <td>0.000</td>\n",
       "    </tr>\n",
       "    <tr>\n",
       "      <th>36</th>\n",
       "      <td>full or part time employment stat</td>\n",
       "      <td>0.000</td>\n",
       "    </tr>\n",
       "  </tbody>\n",
       "</table>\n",
       "</div>"
      ],
      "text/plain": [
       "                                             features  coef\n",
       "40                               executive or manager 0.172\n",
       "29                       region of previous residence 0.129\n",
       "33         fill inc questionnaire for veteran's admin 0.127\n",
       "15                                                age 0.058\n",
       "38                 detailed household and family stat 0.050\n",
       "14                        state of previous residence 0.049\n",
       "30                               weeks worked in year 0.041\n",
       "1                             family members under 18 0.038\n",
       "24                         detailed occupation recode 0.032\n",
       "12                                     capital losses 0.028\n",
       "32                                            working 0.028\n",
       "34                            country of birth father 0.026\n",
       "19                    work in agriculture or industry 0.019\n",
       "28                                    class of worker 0.016\n",
       "35                                          education 0.016\n",
       "6                                     hispanic origin 0.015\n",
       "8                               major occupation code 0.013\n",
       "25            detailed household summary in household 0.012\n",
       "27                            country of birth mother 0.012\n",
       "3                             reason for unemployment 0.011\n",
       "31                                        citizenship 0.010\n",
       "7                                 high academic level 0.010\n",
       "11                                      capital gains 0.009\n",
       "18                    num persons worked for employer 0.009\n",
       "23                                                sex 0.009\n",
       "26                                               year 0.009\n",
       "16                              dividends from stocks 0.007\n",
       "21                                major industry code 0.007\n",
       "10                                       marital stat 0.005\n",
       "17                                      wage per hour 0.005\n",
       "13                                  veterans benefits 0.005\n",
       "5                          enroll in edu inst last wk 0.004\n",
       "20                                               race 0.004\n",
       "43                                     tax filer stat 0.004\n",
       "39                                        is hispanic 0.003\n",
       "2                            detailed industry recode 0.002\n",
       "22                              country of birth self 0.002\n",
       "42                                              adult 0.001\n",
       "9                       live in this house 1 year ago 0.001\n",
       "41  work in finance, insurance, real estate or bus... 0.001\n",
       "37                            member of a labor union 0.000\n",
       "4                       own business or self employed 0.000\n",
       "0                                      extra earnings 0.000\n",
       "36                  full or part time employment stat 0.000"
      ]
     },
     "execution_count": 18,
     "metadata": {},
     "output_type": "execute_result"
    }
   ],
   "source": [
    "# Feature importance in the decision tree\n",
    "pd.set_option('display.float_format', lambda x: '%.3f' % x)\n",
    "\n",
    "dt_feature_imp = pd.DataFrame(data={\n",
    "    \"features\": list(set(X_train_extra_features.columns).difference(set([\"migration code-change in msa\", \"migration code-change in reg\", \"migration code-move within reg\", \"migration prev res in sunbelt\"]))),\n",
    "    \"coef\": list(dt_clf_with_extra_features[\"classifier\"].feature_importances_)\n",
    "})\n",
    "\n",
    "dt_feature_imp.sort_values(\"coef\", ascending=False)"
   ]
  },
  {
   "cell_type": "markdown",
   "metadata": {},
   "source": [
    "Interestingly enough, one of our custom features (executive or manager) is ranking first. On the other hand, the other added features did not provide as much.\n",
    "\n",
    "Note that if we have to deal with overfitting with a tree-based model, we could try to perform feature selection based on this ranking (eliminating, for instance, the N lowest ranking features)"
   ]
  },
  {
   "cell_type": "markdown",
   "metadata": {},
   "source": [
    "##### **#2.5 : More complex models**"
   ]
  },
  {
   "cell_type": "markdown",
   "metadata": {},
   "source": [
    "While we found a couple of preprocessing tricks to improve model performance, there is still room for improvement. Before diving into fine-tuning, we can try out a couple of different models, a little bit more elaborate than our two baselines models.\n",
    "\n",
    "Following the results above, we will use our newly created features. The will get rid of SMOTE resampling for now."
   ]
  },
  {
   "cell_type": "code",
   "execution_count": 15,
   "metadata": {},
   "outputs": [
    {
     "name": "stdout",
     "output_type": "stream",
     "text": [
      "                    precision    recall  f1-score   support\n",
      "\n",
      " Low income (<50k)     0.9514    0.9872    0.9690     72669\n",
      "High income (>50k)     0.7283    0.4052    0.5207      6157\n",
      "\n",
      "          accuracy                         0.9417     78826\n",
      "         macro avg     0.8398    0.6962    0.7448     78826\n",
      "      weighted avg     0.9340    0.9417    0.9340     78826\n",
      "\n"
     ]
    }
   ],
   "source": [
    "# Random forest classifier\n",
    "from sklearn.ensemble import RandomForestClassifier\n",
    "\n",
    "rf_clf = Pipeline(steps=[\n",
    "    (\"preprocessor\", build_preprocessor(\n",
    "        ordinal_encoding=True,\n",
    "        cols_to_drop=[\"migration code-change in msa\", \"migration code-change in reg\", \"migration code-move within reg\", \"migration prev res in sunbelt\"]\n",
    "    )),\n",
    "    (\"classifier\", RandomForestClassifier(class_weight=\"balanced\", random_state=42))\n",
    "])\n",
    "\n",
    "evaluate_model(rf_clf, X_train_extra_features, y_train, X_test_extra_features, y_test, curves=False)"
   ]
  },
  {
   "cell_type": "code",
   "execution_count": 16,
   "metadata": {},
   "outputs": [
    {
     "name": "stdout",
     "output_type": "stream",
     "text": [
      "                    precision    recall  f1-score   support\n",
      "\n",
      " Low income (<50k)     0.9528    0.9876    0.9699     72669\n",
      "High income (>50k)     0.7426    0.4221    0.5383      6157\n",
      "\n",
      "          accuracy                         0.9434     78826\n",
      "         macro avg     0.8477    0.7049    0.7541     78826\n",
      "      weighted avg     0.9363    0.9434    0.9362     78826\n",
      "\n"
     ]
    }
   ],
   "source": [
    "# Gradient boosted trees\n",
    "from sklearn.ensemble import GradientBoostingClassifier\n",
    "\n",
    "gbt_clf = Pipeline(steps=[\n",
    "    (\"preprocessor\", build_preprocessor(\n",
    "        ordinal_encoding=True,\n",
    "        cols_to_drop=[\"migration code-change in msa\", \"migration code-change in reg\", \"migration code-move within reg\", \"migration prev res in sunbelt\"]\n",
    "    )),\n",
    "    (\"classifier\", GradientBoostingClassifier(random_state=42))\n",
    "])\n",
    "\n",
    "evaluate_model(gbt_clf, X_train_extra_features, y_train, X_test_extra_features, y_test, curves=False)"
   ]
  },
  {
   "cell_type": "code",
   "execution_count": 17,
   "metadata": {},
   "outputs": [
    {
     "name": "stdout",
     "output_type": "stream",
     "text": [
      "                    precision    recall  f1-score   support\n",
      "\n",
      " Low income (<50k)     0.9824    0.8895    0.9336     72669\n",
      "High income (>50k)     0.3836    0.8116    0.5209      6157\n",
      "\n",
      "          accuracy                         0.8834     78826\n",
      "         macro avg     0.6830    0.8505    0.7273     78826\n",
      "      weighted avg     0.9356    0.8834    0.9014     78826\n",
      "\n"
     ]
    }
   ],
   "source": [
    "# Stochastic Gradient Descent\n",
    "from sklearn.linear_model import SGDClassifier\n",
    "\n",
    "sgd_clf = Pipeline(steps=[\n",
    "    (\"preprocessor\", build_preprocessor(\n",
    "        ordinal_encoding=False, #One hot encoding\n",
    "        cols_to_drop=[\"migration code-change in msa\", \"migration code-change in reg\", \"migration code-move within reg\", \"migration prev res in sunbelt\"]\n",
    "    )),\n",
    "    (\"classifier\", SGDClassifier(loss=\"log\", class_weight=\"balanced\", random_state=42))\n",
    "])\n",
    "\n",
    "evaluate_model(sgd_clf, X_train_extra_features, y_train, X_test_extra_features, y_test, curves=False)"
   ]
  },
  {
   "cell_type": "markdown",
   "metadata": {},
   "source": [
    "Without any fine-tuning, we can already see that all of these models already outperform our two baselines models.\n",
    "\n",
    "In the next section, we will compare them with different sets of hyperparameters to find the best predictive model."
   ]
  },
  {
   "cell_type": "markdown",
   "metadata": {},
   "source": [
    "##### **#2.6 : Feature selection**"
   ]
  },
  {
   "cell_type": "markdown",
   "metadata": {},
   "source": [
    "Before we dive into fine tuning, it is worth noting that feature selection can sometimes improve model performance, getting rid of noise and avoiding dimensionality issues. As a final preprocessing step, we will perform Univariate Feature Selection on each on the 3 models (RF, GB, SGD) to find the optimal number of features."
   ]
  },
  {
   "cell_type": "code",
   "execution_count": null,
   "metadata": {},
   "outputs": [],
   "source": [
    "from sklearn.feature_selection import SelectKBest\n",
    "from sklearn.metrics import f1_score\n",
    "import numpy as np\n",
    "\n",
    "\n",
    "for k in [2, 4, 8, 16, 32, 40, X_train_extra_features.shape[1]]\n",
    "    rf_clf = Pipeline(steps=[\n",
    "        (\"preprocessor\", build_preprocessor(\n",
    "            ordinal_encoding=True,\n",
    "            cols_to_drop=[\"migration code-change in msa\", \"migration code-change in reg\", \"migration code-move within reg\", \"migration prev res in sunbelt\"]\n",
    "        )),\n",
    "        (\"feature_selec\", SelectKBest(k)),\n",
    "        (\"classifier\", RandomForestClassifier(class_weight=\"balanced\", random_state=42))\n",
    "    ])\n",
    "    y_pred = rf_clf.fit(X_train_extra_features, y_train).predict(X_test)\n",
    "    score = f1_score(y_test, y_pred)\n",
    "    print(\"Score with {k} features : {score}\")\n",
    "\n",
    "\n",
    "rf_clf = Pipeline(steps=[\n",
    "    (\"preprocessor\", build_preprocessor(\n",
    "        ordinal_encoding=True,\n",
    "        cols_to_drop=[\"migration code-change in msa\", \"migration code-change in reg\", \"migration code-move within reg\", \"migration prev res in sunbelt\"]\n",
    "    )),\n",
    "    (\"classifier\", RandomForestClassifier(class_weight=\"balanced\", random_state=42))\n",
    "])\n",
    "    max_nb_of_features = \n",
    "    \n",
    "\n",
    "    y_pred = model.predict(X_test)"
   ]
  }
 ],
 "metadata": {
  "interpreter": {
   "hash": "7b0d1bc37e4150564005d2f0757eca3230f3c8295ef7a49a1da484b71996b598"
  },
  "kernelspec": {
   "display_name": "Python 3.9.6 64-bit ('venv': venv)",
   "language": "python",
   "name": "python3"
  },
  "language_info": {
   "codemirror_mode": {
    "name": "ipython",
    "version": 3
   },
   "file_extension": ".py",
   "mimetype": "text/x-python",
   "name": "python",
   "nbconvert_exporter": "python",
   "pygments_lexer": "ipython3",
   "version": "3.9.6"
  },
  "orig_nbformat": 4
 },
 "nbformat": 4,
 "nbformat_minor": 2
}
