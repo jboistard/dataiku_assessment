{
 "cells": [
  {
   "cell_type": "markdown",
   "metadata": {},
   "source": [
    "# **Dataiku Data Scientist Technical Assessment**\n",
    "### Author : Jules Boistard\n",
    "### Submission date : January 18th, 2022\n",
    "___"
   ]
  },
  {
   "cell_type": "markdown",
   "metadata": {},
   "source": [
    "#### **#2 : Pre-processing**\n",
    "\n",
    "The goal here is to iteratively find the best pre-processing pipeline based on a simple basic machine learning model, adding/removing steps along the way"
   ]
  },
  {
   "cell_type": "markdown",
   "metadata": {},
   "source": [
    "##### #2.1 : Importing and splitting data"
   ]
  },
  {
   "cell_type": "code",
   "execution_count": 1,
   "metadata": {},
   "outputs": [],
   "source": [
    "# Read the train and test files\n",
    "# NB : we do not want instance weight for machine learning training\n",
    "import pandas as pd\n",
    "\n",
    "train = pd.read_csv(\"data/train_clean.csv\", header=0)\n",
    "test = pd.read_csv(\"data/test_clean.csv\", header=0)\n",
    "data = pd.concat([train, test], ignore_index=True)\n",
    "\n",
    "# Split datasets into features set and target variable\n",
    "# Note : target classes \"-50k\" and \">50k\" will respectively be labelled 0 and 1\n",
    "X_train = train.iloc[:, :-2]\n",
    "X_test = test.iloc[:, :-2]\n",
    "y_train = train.iloc[:, -2].map(lambda s: 0 if \"-\" in s else 1)\n",
    "y_test = test.iloc[:, -2].map(lambda s: 0 if \"-\" in s else 1)"
   ]
  },
  {
   "cell_type": "markdown",
   "metadata": {},
   "source": [
    "##### #2.2 : Basic pre-processing operations"
   ]
  },
  {
   "cell_type": "markdown",
   "metadata": {},
   "source": [
    "To evaluate our pre-processing choices in this section, we will use a baseline Decision Tree model for comparison."
   ]
  },
  {
   "cell_type": "markdown",
   "metadata": {},
   "source": [
    "For our first basic preprocessing pipeline, we will :\n",
    "- Drop columns with >40% NaN Values (migration related)\n",
    "- Impute NaN values with most frequent class for other columns (country of birth, hispanic origin, state of previous residence)\n",
    "- Use Ordinal Encoding for categorical features. The reason for not using one hot encoding for the time being is that we want to be able to identify meaningful features\n",
    "- Use standard scaling to standardize our numerical features"
   ]
  },
  {
   "cell_type": "code",
   "execution_count": 2,
   "metadata": {},
   "outputs": [],
   "source": [
    "# Let us first define different sets of features\n",
    "base_num_cols = [\"age\", \"wage per hour\", \"capital gains\", \"capital losses\", \"dividends from stocks\", \"num persons worked for employer\", \"weeks worked in year\"]\n",
    "base_cat_cols = [col for col in X_train.columns if col not in base_num_cols]"
   ]
  },
  {
   "cell_type": "code",
   "execution_count": 4,
   "metadata": {},
   "outputs": [],
   "source": [
    "from sklearn.base import BaseEstimator, TransformerMixin\n",
    "\n",
    "class BinaryNumFeatureMapper(BaseEstimator, TransformerMixin):\n",
    "    def __init__(self, cutoff=0):\n",
    "        self.cutoff=cutoff\n",
    "        return None\n",
    "\n",
    "    def fit(self, X, y=None):\n",
    "        return self\n",
    "    \n",
    "    def fit_transform(self, X, y=None):\n",
    "        X2 = X.applymap(lambda val: 0 if val <= self.cutoff else 1)\n",
    "        return X2\n",
    "\n",
    "\n"
   ]
  },
  {
   "cell_type": "code",
   "execution_count": 5,
   "metadata": {},
   "outputs": [],
   "source": [
    "# Define evaluation procedure\n",
    "from sklearn.metrics import classification_report\n",
    "from sklearn.model_selection import learning_curve\n",
    "import numpy as np\n",
    "import matplotlib.pyplot as plt\n",
    "\n",
    "def evaluate_model(clf, X_train, y_train, X_test, y_test, curves=True):\n",
    "    clf.fit(X_train, y_train)\n",
    "    y_pred = clf.predict(X_test)\n",
    "    print(classification_report(y_test, y_pred))\n",
    "    \n",
    "    if curves:\n",
    "        N, train_score, val_score = learning_curve(clf, X_train, y_train, scoring=\"f1_weighted\")\n",
    "        plt.figure()\n",
    "        plt.plot(N, train_score.mean(axis=1), label=\"train score\")\n",
    "        plt.plot(N, val_score.mean(axis=1), label=\"val score\")\n",
    "        plt.legend()\n"
   ]
  },
  {
   "cell_type": "code",
   "execution_count": 6,
   "metadata": {},
   "outputs": [],
   "source": [
    "# Defining basic preprocessing steps\n",
    "from sklearn.compose import ColumnTransformer\n",
    "from sklearn.pipeline import Pipeline\n",
    "from sklearn.preprocessing import OrdinalEncoder, StandardScaler\n",
    "from sklearn.impute import SimpleImputer\n",
    "\n",
    "cols_to_drop = ['migration code-change in msa', 'migration code-change in reg', 'migration code-move within reg', 'migration prev res in sunbelt']\n",
    "categorical_cols = [col for col in base_cat_cols if col not in cols_to_drop]\n",
    "numerical_cols = [col for col in base_num_cols if col not in cols_to_drop]\n",
    "\n",
    "categories = [data[col].unique() for col in categorical_cols]\n",
    "\n",
    "cat_transformer = Pipeline(steps=[\n",
    "    (\"imputer\", SimpleImputer(strategy=\"most_frequent\")),\n",
    "    (\"encoder\", OrdinalEncoder(categories=categories))\n",
    "])\n",
    "\n",
    "num_transformer = Pipeline(steps=[\n",
    "    (\"scaler\", StandardScaler())\n",
    "])\n",
    "\n",
    "preprocessor = ColumnTransformer(transformers=[\n",
    "    (\"dropper\", \"drop\", cols_to_drop),\n",
    "    (\"categorical\", cat_transformer, categorical_cols),\n",
    "    (\"numerical\", num_transformer, numerical_cols)\n",
    "])"
   ]
  },
  {
   "cell_type": "code",
   "execution_count": 7,
   "metadata": {},
   "outputs": [
    {
     "name": "stdout",
     "output_type": "stream",
     "text": [
      "              precision    recall  f1-score   support\n",
      "\n",
      "           0       0.96      0.96      0.96     72669\n",
      "           1       0.47      0.47      0.47      6157\n",
      "\n",
      "    accuracy                           0.92     78826\n",
      "   macro avg       0.71      0.71      0.71     78826\n",
      "weighted avg       0.92      0.92      0.92     78826\n",
      "\n"
     ]
    },
    {
     "data": {
      "image/png": "[encoded data removed]",
      "text/plain": [
       "<Figure size 432x288 with 1 Axes>"
      ]
     },
     "metadata": {
      "needs_background": "light"
     },
     "output_type": "display_data"
    }
   ],
   "source": [
    "# Creating baseline decision tree model\n",
    "from sklearn.tree import DecisionTreeClassifier\n",
    "dt_classif = Pipeline(steps=[\n",
    "    (\"preprocessor\", preprocessor),\n",
    "    (\"classifier\", DecisionTreeClassifier(class_weight=\"balanced\", random_state=42))\n",
    "])\n",
    "evaluate_model(dt_classif,X_train, y_train, X_test, y_test)"
   ]
  },
  {
   "cell_type": "markdown",
   "metadata": {},
   "source": [
    "- While the f1-score is not too bad on the major class (under 50k incomes), is it quite poor for the minor class (over 50k)\n",
    "- From the curves, we can see that the model is clearly underfitting. We will therefore perform some feature engineering to adress this issue"
   ]
  },
  {
   "cell_type": "code",
   "execution_count": 19,
   "metadata": {},
   "outputs": [
    {
     "name": "stdout",
     "output_type": "stream",
     "text": [
      "              precision    recall  f1-score   support\n",
      "\n",
      "           0       0.96      0.83      0.89     72669\n",
      "           1       0.23      0.61      0.34      6157\n",
      "\n",
      "    accuracy                           0.81     78826\n",
      "   macro avg       0.60      0.72      0.61     78826\n",
      "weighted avg       0.91      0.81      0.85     78826\n",
      "\n"
     ]
    },
    {
     "data": {
      "image/png": "[encoded data removed]",
      "text/plain": [
       "<Figure size 432x288 with 1 Axes>"
      ]
     },
     "metadata": {
      "needs_background": "light"
     },
     "output_type": "display_data"
    }
   ],
   "source": [
    "cols_to_keep = [\"age\", \"weeks worked in year\", \"dividends from stocks\", \"education\", \"marital stat\"]\n",
    "categorical_cols2 = [\"education\", \"marital stat\"]\n",
    "num_cols2 = [\"age\", \"weeks worked in year\", \"dividends from stocks\"]\n",
    "\n",
    "categories2 = [data[col].unique() for col in categorical_cols2]\n",
    "\n",
    "cat_transformer2 = Pipeline(steps=[\n",
    "    (\"imputer\", SimpleImputer(strategy=\"most_frequent\")),\n",
    "    (\"encoder\", OrdinalEncoder(categories=categories2))\n",
    "])\n",
    "\n",
    "preprocessor2 = ColumnTransformer(transformers=[\n",
    "    (\"dropper\", \"drop\", [col for col in X_train.columns if col not in cols_to_keep]),\n",
    "    (\"categorical\", cat_transformer2, categorical_cols2),\n",
    "    (\"numerical\", num_transformer, num_cols2)\n",
    "])\n",
    "dt_classif2 = Pipeline(steps=[\n",
    "    (\"preprocessor\", preprocessor2),\n",
    "    (\"classifier\", DecisionTreeClassifier(class_weight=\"balanced\", random_state=42))\n",
    "])\n",
    "evaluate_model(dt_classif2, X_train, y_train, X_test, y_test)"
   ]
  },
  {
   "cell_type": "markdown",
   "metadata": {},
   "source": [
    "##### #2.3 : Feature Engineering"
   ]
  },
  {
   "cell_type": "code",
   "execution_count": 171,
   "metadata": {},
   "outputs": [
    {
     "data": {
      "text/html": [
       "<div>\n",
       "<style scoped>\n",
       "    .dataframe tbody tr th:only-of-type {\n",
       "        vertical-align: middle;\n",
       "    }\n",
       "\n",
       "    .dataframe tbody tr th {\n",
       "        vertical-align: top;\n",
       "    }\n",
       "\n",
       "    .dataframe thead th {\n",
       "        text-align: right;\n",
       "    }\n",
       "</style>\n",
       "<table border=\"1\" class=\"dataframe\">\n",
       "  <thead>\n",
       "    <tr style=\"text-align: right;\">\n",
       "      <th></th>\n",
       "      <th>coef</th>\n",
       "    </tr>\n",
       "  </thead>\n",
       "  <tbody>\n",
       "    <tr>\n",
       "      <th>marital stat</th>\n",
       "      <td>0.263873</td>\n",
       "    </tr>\n",
       "    <tr>\n",
       "      <th>country of birth self</th>\n",
       "      <td>0.137974</td>\n",
       "    </tr>\n",
       "    <tr>\n",
       "      <th>veterans benefits</th>\n",
       "      <td>0.085454</td>\n",
       "    </tr>\n",
       "    <tr>\n",
       "      <th>detailed occupation recode</th>\n",
       "      <td>0.056018</td>\n",
       "    </tr>\n",
       "    <tr>\n",
       "      <th>race</th>\n",
       "      <td>0.050706</td>\n",
       "    </tr>\n",
       "    <tr>\n",
       "      <th>own business or self employed</th>\n",
       "      <td>0.049719</td>\n",
       "    </tr>\n",
       "    <tr>\n",
       "      <th>year</th>\n",
       "      <td>0.048604</td>\n",
       "    </tr>\n",
       "    <tr>\n",
       "      <th>detailed industry recode</th>\n",
       "      <td>0.039547</td>\n",
       "    </tr>\n",
       "    <tr>\n",
       "      <th>class of worker</th>\n",
       "      <td>0.030206</td>\n",
       "    </tr>\n",
       "    <tr>\n",
       "      <th>weeks worked in year</th>\n",
       "      <td>0.026789</td>\n",
       "    </tr>\n",
       "  </tbody>\n",
       "</table>\n",
       "</div>"
      ],
      "text/plain": [
       "                                   coef\n",
       "marital stat                   0.263873\n",
       "country of birth self          0.137974\n",
       "veterans benefits              0.085454\n",
       "detailed occupation recode     0.056018\n",
       "race                           0.050706\n",
       "own business or self employed  0.049719\n",
       "year                           0.048604\n",
       "detailed industry recode       0.039547\n",
       "class of worker                0.030206\n",
       "weeks worked in year           0.026789"
      ]
     },
     "execution_count": 171,
     "metadata": {},
     "output_type": "execute_result"
    }
   ],
   "source": [
    "feature_importance = pd.DataFrame(data=dt_classif[\"classifier\"].feature_importances_, index=[col for col in X_train.columns if col not in cols_to_drop], columns=[\"coef\"])\n",
    "feature_importance.sort_values(\"coef\", ascending=False).head(10)"
   ]
  },
  {
   "cell_type": "code",
   "execution_count": 172,
   "metadata": {},
   "outputs": [
    {
     "name": "stdout",
     "output_type": "stream",
     "text": [
      "              precision    recall  f1-score   support\n",
      "\n",
      "           0       0.95      0.95      0.95     72669\n",
      "           1       0.36      0.35      0.35      6157\n",
      "\n",
      "    accuracy                           0.90     78826\n",
      "   macro avg       0.65      0.65      0.65     78826\n",
      "weighted avg       0.90      0.90      0.90     78826\n",
      "\n"
     ]
    }
   ],
   "source": [
    "from sklearn.decomposition import PCA\n",
    "\n",
    "dt_classif_with_pca = Pipeline(steps=[\n",
    "    (\"preprocessor\", preprocessor),\n",
    "    (\"pca\", PCA(n_components=15)),\n",
    "    (\"classifier\", DecisionTreeClassifier(class_weight=\"balanced\", random_state=42))\n",
    "])\n",
    "evaluate_model(dt_classif_with_pca, X_train, y_train, X_test, y_test, curves=False)"
   ]
  },
  {
   "cell_type": "code",
   "execution_count": 163,
   "metadata": {},
   "outputs": [
    {
     "data": {
      "text/plain": [
       "array([244.2125024 , 117.66089513,  70.85683127,  50.17283633,\n",
       "        18.30244674,  15.47858678,  13.16703592,  11.47516548,\n",
       "         9.33411216,   5.45850675,   3.29744606,   2.52110743,\n",
       "         1.99191078,   1.88207855,   1.57870633,   1.32694564,\n",
       "         1.12406249,   1.05786782,   0.98935217,   0.85829592])"
      ]
     },
     "execution_count": 163,
     "metadata": {},
     "output_type": "execute_result"
    }
   ],
   "source": [
    "dt_classif_with_fs[\"pca\"].explained_variance_"
   ]
  },
  {
   "cell_type": "code",
   "execution_count": 162,
   "metadata": {},
   "outputs": [
    {
     "data": {
      "text/plain": [
       "<AxesSubplot:>"
      ]
     },
     "execution_count": 162,
     "metadata": {},
     "output_type": "execute_result"
    },
    {
     "data": {
      "image/png": "[encoded data removed]",
      "text/plain": [
       "<Figure size 1440x720 with 2 Axes>"
      ]
     },
     "metadata": {
      "needs_background": "light"
     },
     "output_type": "display_data"
    }
   ],
   "source": [
    "import seaborn as sns\n",
    "import matplotlib.pyplot as plt\n",
    "\n",
    "plt.figure(figsize=(20,10))\n",
    "sns.set_theme\n",
    "cmap = sns.diverging_palette(230, 20, as_cmap=True)\n",
    "sns.heatmap(dt_classif_with_fs[\"pca\"].components_, cmap=cmap, center=0)"
   ]
  },
  {
   "cell_type": "markdown",
   "metadata": {},
   "source": [
    "PCA does not work very well (not improving score, especially with low number of components)"
   ]
  },
  {
   "cell_type": "markdown",
   "metadata": {},
   "source": [
    "##### #2.4 : Resampling"
   ]
  },
  {
   "cell_type": "code",
   "execution_count": null,
   "metadata": {},
   "outputs": [],
   "source": [
    "from imblearn.over_sampling import SMOTE\n",
    "from imblearn.pipeline import Pipeline as imPipeline\n",
    "\n",
    "dt_classif_with_us = imPipeline(steps=[\n",
    "    (\"preprocessor\", preprocessor),\n",
    "    (\"resample\", SMOTE(random_state=42)),    \n",
    "    (\"classifier\", DecisionTreeClassifier(random_state=42))\n",
    "])\n",
    "evaluate_model(dt_classif_with_us, X_train, y_train, X_test, y_test, curves=False)"
   ]
  },
  {
   "cell_type": "markdown",
   "metadata": {},
   "source": [
    "##### #2.5 : More complex models"
   ]
  },
  {
   "cell_type": "code",
   "execution_count": 14,
   "metadata": {},
   "outputs": [
    {
     "name": "stdout",
     "output_type": "stream",
     "text": [
      "              precision    recall  f1-score   support\n",
      "\n",
      "           0       0.95      0.99      0.97     72669\n",
      "           1       0.73      0.41      0.52      6157\n",
      "\n",
      "    accuracy                           0.94     78826\n",
      "   macro avg       0.84      0.70      0.75     78826\n",
      "weighted avg       0.93      0.94      0.93     78826\n",
      "\n"
     ]
    },
    {
     "data": {
      "image/png": "[encoded data removed]",
      "text/plain": [
       "<Figure size 432x288 with 1 Axes>"
      ]
     },
     "metadata": {
      "needs_background": "light"
     },
     "output_type": "display_data"
    }
   ],
   "source": [
    "from sklearn.ensemble import RandomForestClassifier\n",
    "\n",
    "rf_classif = Pipeline(steps=[\n",
    "    (\"preprocessor\", preprocessor),\n",
    "    (\"classifier\", RandomForestClassifier(class_weight=\"balanced\", random_state=42))\n",
    "])\n",
    "evaluate_model(rf_classif, X_train, y_train, X_test, y_test, curves=True)"
   ]
  },
  {
   "cell_type": "code",
   "execution_count": 12,
   "metadata": {},
   "outputs": [
    {
     "name": "stdout",
     "output_type": "stream",
     "text": [
      "              precision    recall  f1-score   support\n",
      "\n",
      "           0       0.98      0.82      0.89     72669\n",
      "           1       0.28      0.85      0.42      6157\n",
      "\n",
      "    accuracy                           0.82     78826\n",
      "   macro avg       0.63      0.83      0.66     78826\n",
      "weighted avg       0.93      0.82      0.86     78826\n",
      "\n"
     ]
    },
    {
     "data": {
      "image/png": "[encoded data removed]",
      "text/plain": [
       "<Figure size 432x288 with 1 Axes>"
      ]
     },
     "metadata": {
      "needs_background": "light"
     },
     "output_type": "display_data"
    }
   ],
   "source": [
    "from sklearn.linear_model import LogisticRegression\n",
    "\n",
    "lr_classif = Pipeline(steps=[\n",
    "    (\"preprocessor\", preprocessor),\n",
    "    (\"classifier\", LogisticRegression(max_iter=5000, class_weight=\"balanced\", random_state=42))\n",
    "])\n",
    "evaluate_model(lr_classif, X_train, y_train, X_test, y_test, curves=True)"
   ]
  }
 ],
 "metadata": {
  "interpreter": {
   "hash": "7b0d1bc37e4150564005d2f0757eca3230f3c8295ef7a49a1da484b71996b598"
  },
  "kernelspec": {
   "display_name": "Python 3.9.6 64-bit ('venv': venv)",
   "language": "python",
   "name": "python3"
  },
  "language_info": {
   "codemirror_mode": {
    "name": "ipython",
    "version": 3
   },
   "file_extension": ".py",
   "mimetype": "text/x-python",
   "name": "python",
   "nbconvert_exporter": "python",
   "pygments_lexer": "ipython3",
   "version": "3.9.6"
  },
  "orig_nbformat": 4
 },
 "nbformat": 4,
 "nbformat_minor": 2
}
