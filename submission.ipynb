{
 "cells": [
  {
   "cell_type": "markdown",
   "metadata": {},
   "source": [
    "# **Dataiku Data Scientist Technical Assessment**\n",
    "### Author : Jules Boistard\n",
    "### Submission date : January 18th, 2022\n",
    "___"
   ]
  },
  {
   "cell_type": "markdown",
   "metadata": {},
   "source": [
    "#### **#1 : Exploratory data analysis**"
   ]
  },
  {
   "cell_type": "code",
   "execution_count": 1,
   "metadata": {},
   "outputs": [
    {
     "name": "stderr",
     "output_type": "stream",
     "text": [
      "e:\\dataiku_assessment\\venv\\lib\\site-packages\\pandas\\util\\_decorators.py:311: ParserWarning: Falling back to the 'python' engine because the 'c' engine does not support regex separators (separators > 1 char and different from '\\s+' are interpreted as regex); you can avoid this warning by specifying engine='python'.\n",
      "  return func(*args, **kwargs)\n"
     ]
    }
   ],
   "source": [
    "# Read the train and test files\n",
    "import pandas as pd\n",
    "import re\n",
    "\n",
    "metadata = open(\"data/census_income_metadata.txt\")\n",
    "col_names = [re.findall(\"\\(([^\\)]+)\\)\", line)[0] for line in metadata.readlines()[81:121]]\n",
    "col_names.append(\"total person income\")\n",
    "\n",
    "train = pd.read_csv(\"data/census_income_learn.csv\", header=None, sep=\", \", na_values=\"?\", usecols=[i for i in range(42) if i!=24], names=col_names)\n",
    "test = pd.read_csv(\"data/census_income_test.csv\", header=None, sep=\", \", na_values=\"?\", usecols=[i for i in range(42) if i!=24], names=col_names)\n",
    "\n",
    "'''\n",
    "Note : column #24 in the csv corresponds to the instance weight.\n",
    "While it will be kept for exploratory data analysis, we will later on remove it to train the classifiers.\n",
    "It is therefore treated separately in this section and added as last column.\n",
    "'''\n",
    "train[\"instance weight\"] = pd.read_csv(\"data/census_income_learn.csv\", header=None, sep=\", \", na_values=\"?\", usecols=[24])\n",
    "test[\"instance weight\"] = pd.read_csv(\"data/census_income_test.csv\", header=None, sep=\", \", na_values=\"?\", usecols=[24])"
   ]
  },
  {
   "cell_type": "markdown",
   "metadata": {},
   "source": [
    "___\n",
    "#### **#2 : Data preparation**"
   ]
  },
  {
   "cell_type": "code",
   "execution_count": null,
   "metadata": {},
   "outputs": [],
   "source": [
    "# Split datasets into features and target variable. Remember that the very last columns corresponds to the instance weight and is therefore ignored\n",
    "# As such, the target variable corresponds to the second to last column\n",
    "X_train = train.iloc[:, :-2]\n",
    "X_test = test.iloc[:, :-2]\n",
    "y_train = train.iloc[:, -2]\n",
    "y_test = test.iloc[:, -2]"
   ]
  },
  {
   "cell_type": "markdown",
   "metadata": {},
   "source": [
    "___\n",
    "#### **#3 : Data Modeling**"
   ]
  },
  {
   "cell_type": "markdown",
   "metadata": {},
   "source": [
    "___\n",
    "#### **#4 : Model Assessment**"
   ]
  }
 ],
 "metadata": {
  "interpreter": {
   "hash": "7b0d1bc37e4150564005d2f0757eca3230f3c8295ef7a49a1da484b71996b598"
  },
  "kernelspec": {
   "display_name": "Python 3.9.6 64-bit ('venv': venv)",
   "language": "python",
   "name": "python3"
  },
  "language_info": {
   "codemirror_mode": {
    "name": "ipython",
    "version": 3
   },
   "file_extension": ".py",
   "mimetype": "text/x-python",
   "name": "python",
   "nbconvert_exporter": "python",
   "pygments_lexer": "ipython3",
   "version": "3.9.6"
  },
  "orig_nbformat": 4
 },
 "nbformat": 4,
 "nbformat_minor": 2
}
